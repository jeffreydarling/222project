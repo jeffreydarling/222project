{
 "metadata": {
  "name": ""
 },
 "nbformat": 3,
 "nbformat_minor": 0,
 "worksheets": [
  {
   "cells": [
    {
     "cell_type": "heading",
     "level": 1,
     "metadata": {},
     "source": [
      "Stat222 Capstone Project - Pairs Trading"
     ]
    },
    {
     "cell_type": "heading",
     "level": 3,
     "metadata": {},
     "source": [
      "Import required libraries"
     ]
    },
    {
     "cell_type": "code",
     "collapsed": false,
     "input": [
      "import pandas as pd\n",
      "import scipy.stats as stats\n",
      "import numpy as np\n",
      "import matplotlib.pyplot as plt\n",
      "import statsmodels.api as stat\n",
      "import statsmodels.tsa.stattools as ts\n",
      "from itertools import combinations\n",
      "import multiprocessing\n",
      "from multiprocessing import Pool\n",
      "from pandas.io.packers import pack\n",
      "import cPickle as pkl"
     ],
     "language": "python",
     "metadata": {},
     "outputs": [],
     "prompt_number": 1
    },
    {
     "cell_type": "heading",
     "level": 3,
     "metadata": {},
     "source": [
      "Using manually downloaded WRDS (Wharton) data"
     ]
    },
    {
     "cell_type": "code",
     "collapsed": false,
     "input": [
      "# Unzip and import sorted stock data - currently using test file to manage load times\n",
      "#!gunzip -c wrdsDownload.csv.gz | head -n1 > wrdsSorted.csv\n",
      "#!gunzip -c wrdsDownload.csv.gz | tail -n +2 | sort -t, -k2,2 >> wrdsSorted.csv\n",
      "# Use absolute values to clean up incorrect negative values\n",
      "#wrdsData = pd.io.parsers.read_csv(\"wrdsSorted.csv\", sep = \",\", index_col=[0,1], parse_dates=0, usecols = [1,2,3]).abs()"
     ],
     "language": "python",
     "metadata": {},
     "outputs": [],
     "prompt_number": 6
    },
    {
     "cell_type": "code",
     "collapsed": false,
     "input": [
      "# Known issue with usecols is wrong index names\n",
      "#wrdsData.index.names = ['date', 'ticker']\n",
      "#wrdsData.head()"
     ],
     "language": "python",
     "metadata": {},
     "outputs": [
      {
       "html": [
        "<div style=\"max-height:1000px;max-width:1500px;overflow:auto;\">\n",
        "<table border=\"1\" class=\"dataframe\">\n",
        "  <thead>\n",
        "    <tr style=\"text-align: right;\">\n",
        "      <th></th>\n",
        "      <th></th>\n",
        "      <th>PRC</th>\n",
        "    </tr>\n",
        "    <tr>\n",
        "      <th>date</th>\n",
        "      <th>ticker</th>\n",
        "      <th></th>\n",
        "    </tr>\n",
        "  </thead>\n",
        "  <tbody>\n",
        "    <tr>\n",
        "      <th rowspan=\"5\" valign=\"top\">2011-01-03</th>\n",
        "      <th>AEPI</th>\n",
        "      <td> 26.510</td>\n",
        "    </tr>\n",
        "    <tr>\n",
        "      <th>JJSF</th>\n",
        "      <td> 49.440</td>\n",
        "    </tr>\n",
        "    <tr>\n",
        "      <th>PLXS</th>\n",
        "      <td> 31.770</td>\n",
        "    </tr>\n",
        "    <tr>\n",
        "      <th>RMCF</th>\n",
        "      <td>  9.861</td>\n",
        "    </tr>\n",
        "    <tr>\n",
        "      <th>MSFT</th>\n",
        "      <td> 27.980</td>\n",
        "    </tr>\n",
        "  </tbody>\n",
        "</table>\n",
        "<p>5 rows \u00d7 1 columns</p>\n",
        "</div>"
       ],
       "metadata": {},
       "output_type": "pyout",
       "prompt_number": 13,
       "text": [
        "                      PRC\n",
        "date       ticker        \n",
        "2011-01-03 AEPI    26.510\n",
        "           JJSF    49.440\n",
        "           PLXS    31.770\n",
        "           RMCF     9.861\n",
        "           MSFT    27.980\n",
        "\n",
        "[5 rows x 1 columns]"
       ]
      }
     ],
     "prompt_number": 13
    },
    {
     "cell_type": "code",
     "collapsed": false,
     "input": [
      "# Sort and remove duplicate indices\n",
      "#wrdsDirty = wrdsData.reset_index().groupby(wrdsData.index.names).first()\n",
      "#wrdsClean = wrdsDirty.reset_index().pivot('date','ticker','PRC')"
     ],
     "language": "python",
     "metadata": {},
     "outputs": [],
     "prompt_number": 14
    },
    {
     "cell_type": "code",
     "collapsed": false,
     "input": [
      "#Create training and testing data sets\n",
      "#trainData = wrdsClean.ix['20110103':'20121231'].dropna(axis=1, how='all')\n",
      "#testData = wrdsClean.ix['20130102':'20131231']"
     ],
     "language": "python",
     "metadata": {},
     "outputs": [],
     "prompt_number": 15
    },
    {
     "cell_type": "code",
     "collapsed": false,
     "input": [
      "#trainOutput = open('trainData.pkl', 'wb')\n",
      "#pkl.dump(trainData, trainOutput, -1)\n",
      "#trainOutput.close()"
     ],
     "language": "python",
     "metadata": {},
     "outputs": [],
     "prompt_number": 10
    },
    {
     "cell_type": "code",
     "collapsed": false,
     "input": [
      "#testOutput = open('testData.pkl', 'wb')\n",
      "#pkl.dump(testData, testOutput, -1)\n",
      "#testOutput.close()"
     ],
     "language": "python",
     "metadata": {},
     "outputs": [],
     "prompt_number": 16
    },
    {
     "cell_type": "code",
     "collapsed": false,
     "input": [
      "trainInput = open('trainData.pkl', 'rb')\n",
      "trainData = pkl.load(trainInput)\n",
      "trainInput.close()"
     ],
     "language": "python",
     "metadata": {},
     "outputs": [],
     "prompt_number": 2
    },
    {
     "cell_type": "code",
     "collapsed": false,
     "input": [
      "testInput = open('testData.pkl', 'rb')\n",
      "testData = pkl.load(testInput)\n",
      "testInput.close()"
     ],
     "language": "python",
     "metadata": {},
     "outputs": [],
     "prompt_number": 3
    },
    {
     "cell_type": "code",
     "collapsed": false,
     "input": [
      "testData.head()"
     ],
     "language": "python",
     "metadata": {},
     "outputs": [
      {
       "html": [
        "<div style=\"max-height:1000px;max-width:1500px;overflow:auto;\">\n",
        "<table border=\"1\" class=\"dataframe\">\n",
        "  <thead>\n",
        "    <tr style=\"text-align: right;\">\n",
        "      <th>ticker</th>\n",
        "      <th>AAIT</th>\n",
        "      <th>AAL</th>\n",
        "      <th>AAME</th>\n",
        "      <th>AAOI</th>\n",
        "      <th>AAON</th>\n",
        "      <th>AAPL</th>\n",
        "      <th>AAWW</th>\n",
        "      <th>AAXJ</th>\n",
        "      <th>ABAX</th>\n",
        "      <th>ABCB</th>\n",
        "      <th>ABCD</th>\n",
        "      <th>ABCO</th>\n",
        "      <th>ABFS</th>\n",
        "      <th>ABGB</th>\n",
        "      <th>ABIO</th>\n",
        "      <th>ABMD</th>\n",
        "      <th>ABTL</th>\n",
        "      <th>ACAD</th>\n",
        "      <th>ACAS</th>\n",
        "      <th>ACAT</th>\n",
        "      <th></th>\n",
        "    </tr>\n",
        "    <tr>\n",
        "      <th>date</th>\n",
        "      <th></th>\n",
        "      <th></th>\n",
        "      <th></th>\n",
        "      <th></th>\n",
        "      <th></th>\n",
        "      <th></th>\n",
        "      <th></th>\n",
        "      <th></th>\n",
        "      <th></th>\n",
        "      <th></th>\n",
        "      <th></th>\n",
        "      <th></th>\n",
        "      <th></th>\n",
        "      <th></th>\n",
        "      <th></th>\n",
        "      <th></th>\n",
        "      <th></th>\n",
        "      <th></th>\n",
        "      <th></th>\n",
        "      <th></th>\n",
        "    </tr>\n",
        "  </thead>\n",
        "  <tbody>\n",
        "    <tr>\n",
        "      <th>2013-01-02</th>\n",
        "      <td> 28.6000</td>\n",
        "      <td>NaN</td>\n",
        "      <td> 3.1999</td>\n",
        "      <td>NaN</td>\n",
        "      <td> 21.27</td>\n",
        "      <td> 549.03003</td>\n",
        "      <td> 45.58</td>\n",
        "      <td> 61.76</td>\n",
        "      <td> 37.82</td>\n",
        "      <td> 12.8300</td>\n",
        "      <td> 1.1900</td>\n",
        "      <td> 49.25</td>\n",
        "      <td>  9.72</td>\n",
        "      <td>NaN</td>\n",
        "      <td> 0.410</td>\n",
        "      <td> 13.6900</td>\n",
        "      <td> 4.00</td>\n",
        "      <td> 4.7300</td>\n",
        "      <td> 12.37</td>\n",
        "      <td> 34.71</td>\n",
        "      <td>...</td>\n",
        "    </tr>\n",
        "    <tr>\n",
        "      <th>2013-01-03</th>\n",
        "      <td> 28.3644</td>\n",
        "      <td>NaN</td>\n",
        "      <td> 3.2000</td>\n",
        "      <td>NaN</td>\n",
        "      <td> 21.64</td>\n",
        "      <td> 542.09589</td>\n",
        "      <td> 44.76</td>\n",
        "      <td> 61.29</td>\n",
        "      <td> 37.72</td>\n",
        "      <td> 12.7900</td>\n",
        "      <td> 1.2000</td>\n",
        "      <td> 49.53</td>\n",
        "      <td>  9.79</td>\n",
        "      <td>NaN</td>\n",
        "      <td> 0.410</td>\n",
        "      <td> 13.4500</td>\n",
        "      <td> 3.94</td>\n",
        "      <td> 4.7500</td>\n",
        "      <td> 12.58</td>\n",
        "      <td> 34.93</td>\n",
        "      <td>...</td>\n",
        "    </tr>\n",
        "    <tr>\n",
        "      <th>2013-01-04</th>\n",
        "      <td> 28.2220</td>\n",
        "      <td>NaN</td>\n",
        "      <td> 3.2000</td>\n",
        "      <td>NaN</td>\n",
        "      <td> 21.75</td>\n",
        "      <td> 527.00000</td>\n",
        "      <td> 45.19</td>\n",
        "      <td> 61.29</td>\n",
        "      <td> 37.66</td>\n",
        "      <td> 12.9000</td>\n",
        "      <td> 1.2200</td>\n",
        "      <td> 49.79</td>\n",
        "      <td> 10.15</td>\n",
        "      <td>NaN</td>\n",
        "      <td> 0.400</td>\n",
        "      <td> 13.4100</td>\n",
        "      <td> 3.95</td>\n",
        "      <td> 4.9500</td>\n",
        "      <td> 12.77</td>\n",
        "      <td> 35.52</td>\n",
        "      <td>...</td>\n",
        "    </tr>\n",
        "    <tr>\n",
        "      <th>2013-01-07</th>\n",
        "      <td> 28.2000</td>\n",
        "      <td>NaN</td>\n",
        "      <td> 3.2300</td>\n",
        "      <td>NaN</td>\n",
        "      <td> 21.51</td>\n",
        "      <td> 523.90002</td>\n",
        "      <td> 44.84</td>\n",
        "      <td> 60.81</td>\n",
        "      <td> 37.48</td>\n",
        "      <td> 12.8711</td>\n",
        "      <td> 1.1901</td>\n",
        "      <td> 50.00</td>\n",
        "      <td>  9.87</td>\n",
        "      <td>NaN</td>\n",
        "      <td> 0.420</td>\n",
        "      <td> 13.2495</td>\n",
        "      <td> 3.99</td>\n",
        "      <td> 4.8700</td>\n",
        "      <td> 12.96</td>\n",
        "      <td> 35.62</td>\n",
        "      <td>...</td>\n",
        "    </tr>\n",
        "    <tr>\n",
        "      <th>2013-01-08</th>\n",
        "      <td> 27.2700</td>\n",
        "      <td>NaN</td>\n",
        "      <td> 3.2000</td>\n",
        "      <td>NaN</td>\n",
        "      <td> 21.56</td>\n",
        "      <td> 525.31000</td>\n",
        "      <td> 45.53</td>\n",
        "      <td> 60.30</td>\n",
        "      <td> 37.99</td>\n",
        "      <td> 12.9000</td>\n",
        "      <td> 1.2000</td>\n",
        "      <td> 49.83</td>\n",
        "      <td> 10.20</td>\n",
        "      <td>NaN</td>\n",
        "      <td> 0.403</td>\n",
        "      <td> 13.2100</td>\n",
        "      <td> 3.95</td>\n",
        "      <td> 4.9199</td>\n",
        "      <td> 12.88</td>\n",
        "      <td> 36.31</td>\n",
        "      <td>...</td>\n",
        "    </tr>\n",
        "  </tbody>\n",
        "</table>\n",
        "<p>5 rows \u00d7 2788 columns</p>\n",
        "</div>"
       ],
       "metadata": {},
       "output_type": "pyout",
       "prompt_number": 4,
       "text": [
        "ticker         AAIT  AAL    AAME  AAOI   AAON       AAPL   AAWW   AAXJ   ABAX  \\\n",
        "date                                                                            \n",
        "2013-01-02  28.6000  NaN  3.1999   NaN  21.27  549.03003  45.58  61.76  37.82   \n",
        "2013-01-03  28.3644  NaN  3.2000   NaN  21.64  542.09589  44.76  61.29  37.72   \n",
        "2013-01-04  28.2220  NaN  3.2000   NaN  21.75  527.00000  45.19  61.29  37.66   \n",
        "2013-01-07  28.2000  NaN  3.2300   NaN  21.51  523.90002  44.84  60.81  37.48   \n",
        "2013-01-08  27.2700  NaN  3.2000   NaN  21.56  525.31000  45.53  60.30  37.99   \n",
        "\n",
        "ticker         ABCB    ABCD   ABCO   ABFS  ABGB   ABIO     ABMD  ABTL    ACAD  \\\n",
        "date                                                                            \n",
        "2013-01-02  12.8300  1.1900  49.25   9.72   NaN  0.410  13.6900  4.00  4.7300   \n",
        "2013-01-03  12.7900  1.2000  49.53   9.79   NaN  0.410  13.4500  3.94  4.7500   \n",
        "2013-01-04  12.9000  1.2200  49.79  10.15   NaN  0.400  13.4100  3.95  4.9500   \n",
        "2013-01-07  12.8711  1.1901  50.00   9.87   NaN  0.420  13.2495  3.99  4.8700   \n",
        "2013-01-08  12.9000  1.2000  49.83  10.20   NaN  0.403  13.2100  3.95  4.9199   \n",
        "\n",
        "ticker       ACAS   ACAT      \n",
        "date                          \n",
        "2013-01-02  12.37  34.71 ...  \n",
        "2013-01-03  12.58  34.93 ...  \n",
        "2013-01-04  12.77  35.52 ...  \n",
        "2013-01-07  12.96  35.62 ...  \n",
        "2013-01-08  12.88  36.31 ...  \n",
        "\n",
        "[5 rows x 2788 columns]"
       ]
      }
     ],
     "prompt_number": 4
    },
    {
     "cell_type": "heading",
     "level": 3,
     "metadata": {},
     "source": [
      "How many pairs are there?"
     ]
    },
    {
     "cell_type": "code",
     "collapsed": false,
     "input": [
      "#!gunzip -c wrdsDownload.csv.gz | tail -n +2 | cut -f 2 > tickerlist.csv\n",
      "#tickers = pd.io.parsers.read_csv(\"tickerlist.csv\", sep = \",\",header=None)\n",
      "tickerlist = sorted(trainData.columns.tolist())[1:]\n",
      "tickerpairs = list(combinations(tickerlist,2))\n",
      "print tickerpairs[:10] #look at first 10 combinations of pairs\n",
      "print len(tickerpairs) #over 2.5 million possible pairs, too much data to analyze?"
     ],
     "language": "python",
     "metadata": {},
     "outputs": [
      {
       "output_type": "stream",
       "stream": "stdout",
       "text": [
        "[('AAME', 'AAON'), ('AAME', 'AAPL'), ('AAME', 'AAWW'), ('AAME', 'AAXJ'), ('AAME', 'ABAX'), ('AAME', 'ABCB'), ('AAME', 'ABCD'), ('AAME', 'ABCO'), ('AAME', 'ABFS'), ('AAME', 'ABIO')]\n",
        "3232153\n"
       ]
      }
     ],
     "prompt_number": 5
    },
    {
     "cell_type": "heading",
     "level": 1,
     "metadata": {},
     "source": [
      "Training Data Set"
     ]
    },
    {
     "cell_type": "heading",
     "level": 3,
     "metadata": {},
     "source": [
      "Distance Method"
     ]
    },
    {
     "cell_type": "code",
     "collapsed": false,
     "input": [
      "# Parallel processing for mean sum-square-distance\n",
      "def dist(tlist):\n",
      "    xname = tlist[0]\n",
      "    yname = tlist[1]\n",
      "    x = trainData[xname]/(trainData[xname][0])\n",
      "    y = trainData[yname]/(trainData[yname][0])\n",
      "    z = (x-y).dropna()\n",
      "    if len(z) > 495:\n",
      "        # Remove any NA values\n",
      "        return([(xname, yname)], sum(map(lambda z:z**2, z)))\n",
      "    else:\n",
      "        return()\n",
      "\n",
      "if __name__ == '__main__':\n",
      "    trainDistPool = Pool(processes=4)\n",
      "    #Test just the first 100 pairs - remove [0:100] for full test\n",
      "    trainDistResult = pd.DataFrame(trainDistPool.map(dist, tickerpairs))\n",
      "\n",
      "trainDistPool.close()"
     ],
     "language": "python",
     "metadata": {},
     "outputs": [
      {
       "ename": "NameError",
       "evalue": "name 'distResult' is not defined",
       "output_type": "pyerr",
       "traceback": [
        "\u001b[0;31m---------------------------------------------------------------------------\u001b[0m\n\u001b[0;31mNameError\u001b[0m                                 Traceback (most recent call last)",
        "\u001b[0;32m<ipython-input-4-0721a0edc339>\u001b[0m in \u001b[0;36m<module>\u001b[0;34m()\u001b[0m\n\u001b[1;32m     21\u001b[0m \u001b[0;31m#Save results to pkl file\u001b[0m\u001b[0;34m\u001b[0m\u001b[0;34m\u001b[0m\u001b[0m\n\u001b[1;32m     22\u001b[0m \u001b[0mtrainDistOutput\u001b[0m \u001b[0;34m=\u001b[0m \u001b[0mopen\u001b[0m\u001b[0;34m(\u001b[0m\u001b[0;34m'trainDistResult.pkl'\u001b[0m\u001b[0;34m,\u001b[0m \u001b[0;34m'wb'\u001b[0m\u001b[0;34m)\u001b[0m\u001b[0;34m\u001b[0m\u001b[0m\n\u001b[0;32m---> 23\u001b[0;31m \u001b[0mpkl\u001b[0m\u001b[0;34m.\u001b[0m\u001b[0mdump\u001b[0m\u001b[0;34m(\u001b[0m\u001b[0mdistResult\u001b[0m\u001b[0;34m,\u001b[0m \u001b[0mtrainDistOutput\u001b[0m\u001b[0;34m,\u001b[0m \u001b[0;34m-\u001b[0m\u001b[0;36m1\u001b[0m\u001b[0;34m)\u001b[0m\u001b[0;34m\u001b[0m\u001b[0m\n\u001b[0m\u001b[1;32m     24\u001b[0m \u001b[0mtrainDistOutput\u001b[0m\u001b[0;34m.\u001b[0m\u001b[0mclose\u001b[0m\u001b[0;34m(\u001b[0m\u001b[0;34m)\u001b[0m\u001b[0;34m\u001b[0m\u001b[0m\n\u001b[1;32m     25\u001b[0m \u001b[0;34m\u001b[0m\u001b[0m\n",
        "\u001b[0;31mNameError\u001b[0m: name 'distResult' is not defined"
       ]
      }
     ],
     "prompt_number": 4
    },
    {
     "cell_type": "code",
     "collapsed": false,
     "input": [
      "#Save results to pkl file\n",
      "trainDistOutput = open('trainDistResult.pkl', 'wb')\n",
      "pkl.dump(trainDistResult, trainDistOutput, -1)\n",
      "trainDistOutput.close()\n",
      "\n",
      "smallssd = trainDistResult.sort(columns = 1)[0:5]\n",
      "print smallssd"
     ],
     "language": "python",
     "metadata": {},
     "outputs": [
      {
       "output_type": "stream",
       "stream": "stdout",
       "text": [
        "                        0         1\n",
        "3221878    [(VONE, VTHR)]  0.013202\n",
        "2958608    [(PRFZ, VTWV)]  0.078365\n",
        "3217295    [(VCSH, VMBS)]  0.112965\n",
        "2459008  [(LBTYA, LBTYK)]  0.125308\n",
        "3225367    [(VTWG, VTWO)]  0.129157\n",
        "\n",
        "[5 rows x 2 columns]\n"
       ]
      }
     ],
     "prompt_number": 7
    },
    {
     "cell_type": "code",
     "collapsed": false,
     "input": [
      "# Save a copy for github\n",
      "!gzip -k trainDistResult.pkl"
     ],
     "language": "python",
     "metadata": {},
     "outputs": []
    },
    {
     "cell_type": "code",
     "collapsed": false,
     "input": [
      "# Unzip github file\n",
      "!gunzip -c trainCorrResult.pkl.gz > trainCorrResult.pkl"
     ],
     "language": "python",
     "metadata": {},
     "outputs": []
    },
    {
     "cell_type": "code",
     "collapsed": false,
     "input": [
      "#Read results from pkl file\n",
      "trainDistInput = open('trainDistResult.pkl', 'rb')\n",
      "trainDistResult = pkl.load(trainDistInput)\n",
      "trainDistInput.close()"
     ],
     "language": "python",
     "metadata": {},
     "outputs": [],
     "prompt_number": 20
    },
    {
     "cell_type": "code",
     "collapsed": false,
     "input": [
      "smallssd = trainDistResult.sort(columns = 1)[0:25]\n",
      "print smallssd"
     ],
     "language": "python",
     "metadata": {},
     "outputs": [
      {
       "output_type": "stream",
       "stream": "stdout",
       "text": [
        "                        0         1\n",
        "3221878    [(VONE, VTHR)]  0.013202\n",
        "2958608    [(PRFZ, VTWV)]  0.078365\n",
        "3217295    [(VCSH, VMBS)]  0.112965\n",
        "2459008  [(LBTYA, LBTYK)]  0.125308\n",
        "3225367    [(VTWG, VTWO)]  0.129157\n",
        "3217279    [(VCSH, VGSH)]  0.144788\n",
        "2958607    [(PRFZ, VTWO)]  0.153353\n",
        "84471      [(ACWX, IFSM)]  0.164394\n",
        "2832838    [(ONEQ, VONE)]  0.165975\n",
        "2832839    [(ONEQ, VONG)]  0.169638\n",
        "3222161    [(VONV, VTHR)]  0.184708\n",
        "108404     [(ADRD, ADRU)]  0.191009\n",
        "2832860    [(ONEQ, VTHR)]  0.214025\n",
        "3216758    [(VCIT, VGIT)]  0.230499\n",
        "2483677  [(LINTA, LINTB)]  0.235668\n",
        "2687682    [(MSEX, YORW)]  0.239340\n",
        "3225483    [(VTWO, VTWV)]  0.256559\n",
        "10988      [(AAXJ, FCHI)]  0.258966\n",
        "3012557    [(QQXT, VONG)]  0.260118\n",
        "3221858    [(VONE, VONV)]  0.264960\n",
        "2254103    [(IFGL, VNQI)]  0.267773\n",
        "3221857    [(VONE, VONG)]  0.274490\n",
        "1787334     [(FDV, QQEW)]  0.292310\n",
        "1787886     [(FDV, VTWG)]  0.319899\n",
        "573801     [(BANF, QABA)]  0.324042\n",
        "\n",
        "[25 rows x 2 columns]\n"
       ]
      }
     ],
     "prompt_number": 21
    },
    {
     "cell_type": "code",
     "collapsed": false,
     "input": [
      "# Time series plot of standardized stock prices\n",
      "# Updated to use parallel processing output\n",
      "\n",
      "plt.figure(1)\n",
      "i = 1\n",
      "for a in smallssd.index:\n",
      "  stock1 = tickerpairs[a][0]\n",
      "  stock2 = tickerpairs[a][1]\n",
      "  pairsprice1 = trainData[stock1]/(trainData[stock1][0])\n",
      "  pairsprice2 = trainData[stock2]/(trainData[stock2][0])\n",
      "  plt.subplot(5,1,i)\n",
      "  plt.plot_date(pairsprice1.index, pairsprice1,'r')\n",
      "  plt.plot_date(pairsprice1.index, pairsprice2,'b')\n",
      "  plt.legend([stock1,stock2])\n",
      "  plt.xlabel('Date')\n",
      "  plt.ylabel('Standardized Price')\n",
      "  plt.title('Time Series Plot of '+stock1+' vs '+stock2)\n",
      "  i += 1\n",
      "\n",
      "plt.gcf().autofmt_xdate(rotation=90)  #Make the data labels on the x-axis vertical\n",
      "plt.show()"
     ],
     "language": "python",
     "metadata": {},
     "outputs": [],
     "prompt_number": 9
    },
    {
     "cell_type": "code",
     "collapsed": false,
     "input": [
      "#Time series plot of average gap in standardized price\n",
      "plt.figure(2)\n",
      "i = 1\n",
      "for a in smallssd.index:\n",
      "  stock1 = tickerpairs[a][0]\n",
      "  stock2 = tickerpairs[a][1]\n",
      "  #Updated to reflect standardized price differential\n",
      "  pairsprice1 = trainData[stock1]/(trainData[stock1][0])\n",
      "  pairsprice2 = trainData[stock2]/(trainData[stock2][0])\n",
      "  pairsgap = pairsprice1-pairsprice2\n",
      "  plt.subplot(1,5,i)\n",
      "  plt.plot(pairsprice1.index, pairsgap,'b')\n",
      "  plt.legend([stock1,stock2])\n",
      "  plt.xlabel('Date')\n",
      "  plt.ylabel('Price')\n",
      "  plt.title('Gap Price between '+stock1+' vs '+stock2)\n",
      "  i += 1\n",
      "\n",
      "plt.gcf().autofmt_xdate(rotation=90)    #Make the data labels on the x-axis vertical\n",
      "plt.show()"
     ],
     "language": "python",
     "metadata": {},
     "outputs": [],
     "prompt_number": 15
    },
    {
     "cell_type": "heading",
     "level": 3,
     "metadata": {},
     "source": [
      "Co-Integration (ADF) Test"
     ]
    },
    {
     "cell_type": "code",
     "collapsed": false,
     "input": [
      "# Parallel processing for cointegration test:\n",
      "def cointegration_test(y, x):\n",
      "        ctresult = stat.OLS(y, x).fit()\n",
      "        return(ts.adfuller(ctresult.resid))\n",
      "\n",
      "\n",
      "def coint(cointTrainingTlist):\n",
      "    try:\n",
      "        cointTrainingXname = cointTrainingTlist[0]\n",
      "        cointTrainingYname = cointTrainingTlist[1]\n",
      "        trainCointX = trainData[cointTrainingXname]\n",
      "        trainCointY = trainData[cointTrainingYname]\n",
      "        if min(trainCointX.count(), trainCointY.count()) > 495:\n",
      "            trainxclean = trainCointX[trainCointX.notnull() & trainCointY.notnull()]\n",
      "            trainyclean = trainCointY[trainCointX.notnull() & trainCointY.notnull()]\n",
      "            trainxp = list(trainxclean)\n",
      "            trainyp = list(trainyclean)\n",
      "            return([(cointTrainingXname, cointTrainingYname)], cointegration_test(trainxp,trainyp)[1]) #get the p-value of test for each pair\n",
      "        else:\n",
      "            return()\n",
      "    except ValueError:\n",
      "        return()\n",
      "    except TypeError:\n",
      "        return()\n",
      "\n",
      "\n",
      "if __name__ == '__main__':\n",
      "    trainCointPool = Pool(processes=4)\n",
      "    #Test just the first 100 pairs - remove [0:100] for full test\n",
      "    trainCointResult = pd.DataFrame(trainCointPool.map(coint, tickerpairs[0:100]))\n",
      "\n",
      "trainCointPool.close()"
     ],
     "language": "python",
     "metadata": {},
     "outputs": [
      {
       "output_type": "stream",
       "stream": "stdout",
       "text": [
        "                 0         1\n",
        "48  [(AAME, ADVS)]  0.000122\n",
        "61  [(AAME, AFOP)]  0.000218\n",
        "16  [(AAME, ACET)]  0.009350\n",
        "4   [(AAME, ABAX)]  0.014371\n",
        "22  [(AAME, ACIW)]  0.017331\n",
        "\n",
        "[5 rows x 2 columns]\n"
       ]
      }
     ],
     "prompt_number": 6
    },
    {
     "cell_type": "code",
     "collapsed": false,
     "input": [
      "#Save results to pkl file\n",
      "trainCointOutput = open('trainCointResult.pkl', 'wb')\n",
      "pkl.dump(trainCointResult, trainCointOutput, -1)\n",
      "trainCointOutput.close()\n",
      "\n",
      "smallCoint = trainCointResult.sort(columns = 1)[0:5]\n",
      "print smallCoint"
     ],
     "language": "python",
     "metadata": {},
     "outputs": [
      {
       "ename": "NameError",
       "evalue": "name 'trainCointResult' is not defined",
       "output_type": "pyerr",
       "traceback": [
        "\u001b[0;31m---------------------------------------------------------------------------\u001b[0m\n\u001b[0;31mNameError\u001b[0m                                 Traceback (most recent call last)",
        "\u001b[0;32m<ipython-input-11-8a635d6c70b7>\u001b[0m in \u001b[0;36m<module>\u001b[0;34m()\u001b[0m\n\u001b[1;32m      1\u001b[0m \u001b[0;31m#Save results to pkl file\u001b[0m\u001b[0;34m\u001b[0m\u001b[0;34m\u001b[0m\u001b[0m\n\u001b[1;32m      2\u001b[0m \u001b[0mtrainCointOutput\u001b[0m \u001b[0;34m=\u001b[0m \u001b[0mopen\u001b[0m\u001b[0;34m(\u001b[0m\u001b[0;34m'trainCointResult.pkl'\u001b[0m\u001b[0;34m,\u001b[0m \u001b[0;34m'wb'\u001b[0m\u001b[0;34m)\u001b[0m\u001b[0;34m\u001b[0m\u001b[0m\n\u001b[0;32m----> 3\u001b[0;31m \u001b[0mpkl\u001b[0m\u001b[0;34m.\u001b[0m\u001b[0mdump\u001b[0m\u001b[0;34m(\u001b[0m\u001b[0mtrainCointResult\u001b[0m\u001b[0;34m,\u001b[0m \u001b[0mtrainCointOutput\u001b[0m\u001b[0;34m,\u001b[0m \u001b[0;34m-\u001b[0m\u001b[0;36m1\u001b[0m\u001b[0;34m)\u001b[0m\u001b[0;34m\u001b[0m\u001b[0m\n\u001b[0m\u001b[1;32m      4\u001b[0m \u001b[0mtrainCointOutput\u001b[0m\u001b[0;34m.\u001b[0m\u001b[0mclose\u001b[0m\u001b[0;34m(\u001b[0m\u001b[0;34m)\u001b[0m\u001b[0;34m\u001b[0m\u001b[0m\n\u001b[1;32m      5\u001b[0m \u001b[0;34m\u001b[0m\u001b[0m\n",
        "\u001b[0;31mNameError\u001b[0m: name 'trainCointResult' is not defined"
       ]
      }
     ],
     "prompt_number": 11
    },
    {
     "cell_type": "heading",
     "level": 3,
     "metadata": {},
     "source": [
      "Controlling the false discovery rate: Benjamini\u2013Hochberg procedure"
     ]
    },
    {
     "cell_type": "code",
     "collapsed": false,
     "input": [
      "#Control for false discovery rate using Benjamani Hockberg procedure (From Wikipedia):\n",
      "#Assume there are m hypothesis tests.\n",
      "#Order the p-values in increasing order and call them P_(1),P_(2),....,P_(m)\n",
      "#Then the steps for the procedure are as follows:\n",
      "#1) For a given alpha, find the largest k such that P_(k) <= (k/m)*alpha\n",
      "#2) Then reject all H_(i) for i = 1,2,...,k\n",
      "\n",
      "from __future__ import division  #need this bc python cannot do division for integers properly without it \n",
      "Cointp = cointResult.sort(columns = 1)\n",
      "cointpvalues = list(Cointp[Cointp.columns[1]])\n",
      "m = len(cointpvalues)\n",
      "alpha = 0.2  #False Discovery Rate (20% is used, Can tweak this if necessary)\n",
      "\n",
      "k = 0\n",
      "while cointpvalues[k] <= ((k+1)/m)*alpha:  #Obtain the k from step 1)\n",
      "    k += 1\n",
      "\n",
      "print k\n",
      "CointSaved = Cointp[:k]\n",
      "print CointSaved #significant pairs under BH procedure"
     ],
     "language": "python",
     "metadata": {},
     "outputs": [
      {
       "output_type": "stream",
       "stream": "stdout",
       "text": [
        "2\n",
        "                 0         1\n",
        "48  [(AAME, ADVS)]  0.000122\n",
        "61  [(AAME, AFOP)]  0.000218\n",
        "\n",
        "[2 rows x 2 columns]\n"
       ]
      }
     ],
     "prompt_number": 9
    },
    {
     "cell_type": "code",
     "collapsed": false,
     "input": [
      "#Plot for \n",
      "plt.figure(3)\n",
      "i = 1\n",
      "for a in smallCoint.index:\n",
      "  stock1 = tickerpairs[a][0]\n",
      "  stock2 = tickerpairs[a][1]\n",
      "  pairsprice1 = trainData[stock1]/(trainData[stock1][0])\n",
      "  pairsprice2 = trainData[stock2]/(trainData[stock2][0])\n",
      "  plt.subplot(5,1,i)\n",
      "  plt.plot_date(pairsprice1.index, pairsprice1,'r')\n",
      "  plt.plot_date(pairsprice1.index, pairsprice2,'b')\n",
      "  plt.legend([stock1,stock2])\n",
      "  plt.xlabel('Date')\n",
      "  plt.ylabel('Stock Price')\n",
      "  plt.title(stock1+' vs '+stock2) \n",
      "  i += 1\n",
      "\n",
      "plt.gcf().autofmt_xdate(rotation=90)   #Make the data labels on the x-axis vertical\n",
      "plt.show()"
     ],
     "language": "python",
     "metadata": {},
     "outputs": [],
     "prompt_number": 10
    },
    {
     "cell_type": "code",
     "collapsed": false,
     "input": [
      "plt.figure(4)\n",
      "i = 1\n",
      "for a in smallCoint.index:\n",
      "  stock1 = tickerpairs[a][0]\n",
      "  stock2 = tickerpairs[a][1]\n",
      "  pairsprice1 = trainData[stock1]\n",
      "  pairsprice2 = trainData[stock2]\n",
      "  pairsgap = pairsprice1-pairsprice2\n",
      "  plt.subplot(1,5,i)\n",
      "  plt.plot(pairsprice1.index, pairsgap,'b')\n",
      "  plt.legend([stock1,stock2])\n",
      "  plt.xlabel('Date')\n",
      "  plt.ylabel('Gap Price')\n",
      "  plt.title(stock1+' vs '+stock2)\n",
      "  i += 1\n",
      "\n",
      "plt.gcf().autofmt_xdate(rotation=90)    #Make the data labels on the x-axis vertical\n",
      "plt.show()"
     ],
     "language": "python",
     "metadata": {},
     "outputs": [],
     "prompt_number": 20
    },
    {
     "cell_type": "heading",
     "level": 3,
     "metadata": {},
     "source": [
      "Correlation "
     ]
    },
    {
     "cell_type": "code",
     "collapsed": false,
     "input": [
      "def correlate(tlist):\n",
      "    try:\n",
      "        xname = tlist[0]\n",
      "        yname = tlist[1]\n",
      "        x = trainData[xname]\n",
      "        y = trainData[yname]\n",
      "        if min(x.count(), y.count()) > 490:\n",
      "            corrs = x.corr(y)\n",
      "            return([(xname, yname)], corrs)\n",
      "        else:\n",
      "            return()\n",
      "    except ValueError:\n",
      "        return()\n",
      "    except TypeError:\n",
      "        return()\n",
      "\n",
      "\n",
      "if __name__ == '__main__':\n",
      "    trainCorrPool = Pool(processes=4)\n",
      "    #Test just the first 100 pairs - remove [0:100] for full test\n",
      "    trainCorrResult = pd.DataFrame(trainCorrPool.map(correlate, tickerpairs))\n",
      "    \n",
      "trainCorrPool.close()"
     ],
     "language": "python",
     "metadata": {},
     "outputs": [],
     "prompt_number": 58
    },
    {
     "cell_type": "code",
     "collapsed": false,
     "input": [
      "#Save results to pkl file\n",
      "trainCorrOutput = open('trainCorrResult.pkl', 'wb')\n",
      "pkl.dump(trainCorrResult, trainCorrOutput, -1)\n",
      "trainCorrOutput.close()\n",
      "\n",
      "pairscorrelated = trainCorrResult.sort(columns = 1, ascending=False)[0:5]\n",
      "print pairscorrelated"
     ],
     "language": "python",
     "metadata": {},
     "outputs": [
      {
       "output_type": "stream",
       "stream": "stdout",
       "text": [
        "            0   1\n",
        "1616076  None NaN\n",
        "1847483  None NaN\n",
        "1847418  None NaN\n",
        "1847421  None NaN\n",
        "1847431  None NaN\n",
        "\n",
        "[5 rows x 2 columns]\n"
       ]
      }
     ],
     "prompt_number": 59
    },
    {
     "cell_type": "code",
     "collapsed": false,
     "input": [
      "# Zip a copy for github\n",
      "!gzip -k trainCorrResult.pkl"
     ],
     "language": "python",
     "metadata": {},
     "outputs": []
    },
    {
     "cell_type": "code",
     "collapsed": false,
     "input": [
      "# Unzip github file\n",
      "!gunzip -c trainCorrResult.pkl.gz > trainCorrResult.pkl"
     ],
     "language": "python",
     "metadata": {},
     "outputs": []
    },
    {
     "cell_type": "code",
     "collapsed": false,
     "input": [
      "#Read results from pkl file\n",
      "trainCorrInput = open('trainCorrResult.pkl', 'rb')\n",
      "trainCorrResult = pkl.load(trainCorrInput)\n",
      "trainCorrInput.close()\n",
      "\n",
      "\n",
      "pairscorrelated = trainCorrResult.sort(columns = 1, ascending=False)[0:5]\n",
      "print pairscorrelated"
     ],
     "language": "python",
     "metadata": {},
     "outputs": [
      {
       "output_type": "stream",
       "stream": "stdout",
       "text": [
        "            0   1\n",
        "1616076  None NaN\n",
        "1847483  None NaN\n",
        "1847418  None NaN\n",
        "1847421  None NaN\n",
        "1847431  None NaN\n",
        "\n",
        "[5 rows x 2 columns]\n"
       ]
      }
     ],
     "prompt_number": 60
    },
    {
     "cell_type": "code",
     "collapsed": false,
     "input": [
      "trainCorrResult.columns = ['pair','corr']\n",
      "trainCorrTop = trainCorrResult.dropna().sort(columns='corr', ascending=False)[0:25]\n",
      "trainCorrTop.head()"
     ],
     "language": "python",
     "metadata": {},
     "outputs": [
      {
       "html": [
        "<div style=\"max-height:1000px;max-width:1500px;overflow:auto;\">\n",
        "<table border=\"1\" class=\"dataframe\">\n",
        "  <thead>\n",
        "    <tr style=\"text-align: right;\">\n",
        "      <th></th>\n",
        "      <th>pair</th>\n",
        "      <th>corr</th>\n",
        "    </tr>\n",
        "  </thead>\n",
        "  <tbody>\n",
        "    <tr>\n",
        "      <th>3221878</th>\n",
        "      <td>   [(VONE, VTHR)]</td>\n",
        "      <td> 0.998255</td>\n",
        "    </tr>\n",
        "    <tr>\n",
        "      <th>2459008</th>\n",
        "      <td> [(LBTYA, LBTYK)]</td>\n",
        "      <td> 0.998026</td>\n",
        "    </tr>\n",
        "    <tr>\n",
        "      <th>3178525</th>\n",
        "      <td> [(TECUA, TECUB)]</td>\n",
        "      <td> 0.996770</td>\n",
        "    </tr>\n",
        "    <tr>\n",
        "      <th>1101073</th>\n",
        "      <td> [(CMCSA, CMCSK)]</td>\n",
        "      <td> 0.995945</td>\n",
        "    </tr>\n",
        "    <tr>\n",
        "      <th>3052453</th>\n",
        "      <td>  [(ROIA, ROIAK)]</td>\n",
        "      <td> 0.995695</td>\n",
        "    </tr>\n",
        "  </tbody>\n",
        "</table>\n",
        "<p>5 rows \u00d7 2 columns</p>\n",
        "</div>"
       ],
       "metadata": {},
       "output_type": "pyout",
       "prompt_number": 63,
       "text": [
        "                     pair      corr\n",
        "3221878    [(VONE, VTHR)]  0.998255\n",
        "2459008  [(LBTYA, LBTYK)]  0.998026\n",
        "3178525  [(TECUA, TECUB)]  0.996770\n",
        "1101073  [(CMCSA, CMCSK)]  0.995945\n",
        "3052453   [(ROIA, ROIAK)]  0.995695\n",
        "\n",
        "[5 rows x 2 columns]"
       ]
      }
     ],
     "prompt_number": 63
    },
    {
     "cell_type": "code",
     "collapsed": false,
     "input": [],
     "language": "python",
     "metadata": {},
     "outputs": [],
     "prompt_number": 74
    },
    {
     "cell_type": "code",
     "collapsed": false,
     "input": [
      "plt.figure(5)\n",
      "i = 1\n",
      "for a in pairscorrelated.index:\n",
      "  stock1 = tickerpairs[a][0]\n",
      "  stock2 = tickerpairs[a][1]\n",
      "  pairsprice1 = trainData[stock1]/(trainData[stock1][0])\n",
      "  pairsprice2 = trainData[stock2]/(trainData[stock2][0])\n",
      "  plt.subplot(5,1,i)\n",
      "  plt.plot_date(pairsprice1.index, pairsprice1,'r')\n",
      "  plt.plot_date(pairsprice1.index, pairsprice2,'b')\n",
      "  plt.legend([stock1,stock2])\n",
      "  plt.xlabel('Date')\n",
      "  plt.ylabel('Stock Price')\n",
      "  plt.title(stock1+' vs '+stock2) \n",
      "  i += 1\n",
      "\n",
      "plt.gcf().autofmt_xdate(rotation=90)   #Make the data labels on the x-axis vertical\n",
      "plt.show()"
     ],
     "language": "python",
     "metadata": {},
     "outputs": [],
     "prompt_number": 10
    },
    {
     "cell_type": "code",
     "collapsed": false,
     "input": [
      "plt.figure(6)\n",
      "i = 1\n",
      "for a in pairscorrelated.index:\n",
      "  stock1 = tickerpairs[a][0]\n",
      "  stock2 = tickerpairs[a][1]\n",
      "  pairsprice1 = trainData[stock1]\n",
      "  pairsprice2 = trainData[stock2]\n",
      "  pairsgap = pairsprice1-pairsprice2\n",
      "  plt.subplot(1,5,i)\n",
      "  plt.plot(pairsprice1.index, pairsgap,'b')\n",
      "  plt.legend([stock1,stock2])\n",
      "  plt.xlabel('Date')\n",
      "  plt.ylabel('Gap Price')\n",
      "  plt.title(stock1 +' vs '+stock2)\n",
      "  i += 1\n",
      "\n",
      "plt.gcf().autofmt_xdate(rotation=90)    #Make the data labels on the x-axis vertical\n",
      "plt.show()"
     ],
     "language": "python",
     "metadata": {},
     "outputs": [],
     "prompt_number": 17
    },
    {
     "cell_type": "code",
     "collapsed": false,
     "input": [
      "#Histogram of the Correlation of the stock pairs\n",
      "\n",
      "correls = list(corrpairs[corrpairs.columns[1]])\n",
      "categories = ['< 0.0','0.0-0.1','0.1-0.2','0.2-0.3','0.3-0.4','0.4-0.5','0.5-0.6','0.6-0.7','0.7-0.8','0.8-0.9','0.9-1.0']\n",
      "\n",
      "freq0 = len([cor for cor in correls if cor < 0.0])\n",
      "freq1 = len([cor for cor in correls if 0.0 <= cor < 0.1])\n",
      "freq2 = len([cor for cor in correls if 0.1 <= cor < 0.2])\n",
      "freq3 = len([cor for cor in correls if 0.2 <= cor < 0.3])\n",
      "freq4 = len([cor for cor in correls if 0.3 <= cor < 0.4])\n",
      "freq5 = len([cor for cor in correls if 0.4 <= cor < 0.5])\n",
      "freq6 = len([cor for cor in correls if 0.5 <= cor < 0.6])\n",
      "freq7 = len([cor for cor in correls if 0.6 <= cor < 0.7])\n",
      "freq8 = len([cor for cor in correls if 0.7 <= cor < 0.8])\n",
      "freq9 = len([cor for cor in correls if 0.8 <= cor < 0.9])\n",
      "freq10 = len([cor for cor in correls if 0.9 <= cor < 1.0])\n",
      "\n",
      "cat = np.arange(len(categories))\n",
      "frequencies = [freq0,freq1,freq2,freq3,freq4,freq5,freq6,freq7,freq8,freq9,freq10]\n",
      "\n",
      "width = 1.0     # gives histogram aspect to the bar diagram\n",
      "\n",
      "ax = plt.axes()\n",
      "ax.set_xticks(cat + (width / 2))\n",
      "ax.set_xticklabels(categories)\n",
      "\n",
      "plt.bar(cat,frequencies,width)\n",
      "plt.xlabel('Correlation Ranges')\n",
      "plt.ylabel('Frequencies')\n",
      "plt.title('Histogram of Correlation of Stock Pairs') \n",
      "plt.show()"
     ],
     "language": "python",
     "metadata": {},
     "outputs": [],
     "prompt_number": 16
    },
    {
     "cell_type": "heading",
     "level": 1,
     "metadata": {},
     "source": [
      "Test Data Set"
     ]
    },
    {
     "cell_type": "heading",
     "level": 3,
     "metadata": {},
     "source": [
      "Distance Method"
     ]
    },
    {
     "cell_type": "code",
     "collapsed": false,
     "input": [
      "# Parallel processing for mean sum-square-distance\n",
      "def dist(tlist):\n",
      "    xname = tickerpairs[tlist][0]\n",
      "    yname = tickerpairs[tlist][1]\n",
      "    x = testData[xname]/(testData[xname][0])\n",
      "    y = testData[yname]/(testData[yname][0])\n",
      "    z = (x-y).dropna()\n",
      "    if len(z) > 248:\n",
      "        # Remove any NA values\n",
      "        return([(xname, yname)], sum(map(lambda z:z**2, z)))\n",
      "    else:\n",
      "        return()\n",
      "\n",
      "if __name__ == '__main__':\n",
      "    testDistPool = Pool(processes=4)\n",
      "    #Test just the first 100 pairs - remove [0:100] for full test\n",
      "    testDistResult = pd.DataFrame(testDistPool.map(dist, smallssd.index))\n",
      "\n",
      "testDistPool.close()"
     ],
     "language": "python",
     "metadata": {},
     "outputs": [],
     "prompt_number": 27
    },
    {
     "cell_type": "code",
     "collapsed": false,
     "input": [
      "testsmallssd = testDistResult\n",
      "print testsmallssd"
     ],
     "language": "python",
     "metadata": {},
     "outputs": [
      {
       "output_type": "stream",
       "stream": "stdout",
       "text": [
        "                   0         1\n",
        "0     [(VONE, VTHR)]  0.004344\n",
        "1     [(PRFZ, VTWV)]  0.351637\n",
        "2     [(VCSH, VMBS)]  0.024145\n",
        "3   [(LBTYA, LBTYK)]  0.057027\n",
        "4     [(VTWG, VTWO)]  0.264641\n",
        "5     [(VCSH, VGSH)]  0.009408\n",
        "6     [(PRFZ, VTWO)]  0.027820\n",
        "7     [(ACWX, IFSM)]  0.999937\n",
        "8     [(ONEQ, VONE)]  0.268062\n",
        "9     [(ONEQ, VONG)]  0.250147\n",
        "10    [(VONV, VTHR)]  0.055331\n",
        "11    [(ADRD, ADRU)]  0.020612\n",
        "12    [(ONEQ, VTHR)]  0.249186\n",
        "13    [(VCIT, VGIT)]  0.099928\n",
        "14  [(LINTA, LINTB)]  0.027427\n",
        "15    [(MSEX, YORW)]  1.709693\n",
        "16    [(VTWO, VTWV)]  0.196797\n",
        "17    [(AAXJ, FCHI)]  0.441235\n",
        "18    [(QQXT, VONG)]  1.297506\n",
        "19    [(VONE, VONV)]  0.035698\n",
        "20    [(IFGL, VNQI)]  0.100334\n",
        "21    [(VONE, VONG)]  0.059513\n",
        "22              None       NaN\n",
        "23              None       NaN\n",
        "24    [(BANF, QABA)]  1.256849\n",
        "\n",
        "[25 rows x 2 columns]\n"
       ]
      }
     ],
     "prompt_number": 31
    },
    {
     "cell_type": "code",
     "collapsed": false,
     "input": [
      "plt.scatter(smallssd[1], testsmallssd[1])\n",
      "plt.show()"
     ],
     "language": "python",
     "metadata": {},
     "outputs": [],
     "prompt_number": 33
    },
    {
     "cell_type": "heading",
     "level": 3,
     "metadata": {},
     "source": [
      "Cointegration"
     ]
    },
    {
     "cell_type": "code",
     "collapsed": false,
     "input": [
      "# Parallel processing for cointegration test:\n",
      "def cointegration_test(y, x):\n",
      "        result = stat.OLS(y, x).fit()\n",
      "        return(ts.adfuller(result.resid))\n",
      "\n",
      "\n",
      "def coint(cointTestingTlist):\n",
      "    try:\n",
      "        cointTestingXname = tickerpairs[cointTestingTlist][0]\n",
      "        cointTestingYname = tickerpairs[cointTestingTlist][1]\n",
      "        testCointX = testData[cointTestingXname]\n",
      "        testCointY = testData[cointTestingYname]\n",
      "        if min(testCointX.count(), testCointY.count()) > 248:\n",
      "            testxclean = testCointX[testCointX.notnull() & testCointY.notnull()]\n",
      "            testyclean = testCointY[testCointX.notnull() & testCointY.notnull()]\n",
      "            testxp = list(testxclean)\n",
      "            testyp = list(testyclean)\n",
      "            return([(cointTestingXname, cointTestingYname)], cointegration_test(testxp,testyp)[1]) #get the p-value of test for each pair\n",
      "        else:\n",
      "            return()\n",
      "    except ValueError:\n",
      "        return()\n",
      "    except TypeError:\n",
      "        return()\n",
      "\n",
      "\n",
      "if __name__ == '__main__':\n",
      "    testCointPool = Pool(processes=4)\n",
      "    #Test just the first 100 pairs - remove [0:100] for full test\n",
      "    testCointResult = pd.DataFrame(testCointPool.map(coint, CointSaved.index))\n",
      "\n",
      "testCointPool.close()\n",
      "testsmallCoint = testCointResult.sort(columns = 1)[0:5]\n",
      "print testsmallCoint"
     ],
     "language": "python",
     "metadata": {},
     "outputs": [
      {
       "output_type": "stream",
       "stream": "stdout",
       "text": [
        "                0         1\n",
        "0  [(AAME, ADVS)]  0.004840\n",
        "1  [(AAME, AFOP)]  0.593934\n",
        "\n",
        "[2 rows x 2 columns]\n"
       ]
      }
     ],
     "prompt_number": 10
    },
    {
     "cell_type": "code",
     "collapsed": false,
     "input": [
      "plt.scatter(CointSaved[1], testCointResult[1])\n",
      "plt.show()"
     ],
     "language": "python",
     "metadata": {},
     "outputs": [],
     "prompt_number": 13
    },
    {
     "cell_type": "heading",
     "level": 3,
     "metadata": {},
     "source": [
      "Correlation"
     ]
    },
    {
     "cell_type": "code",
     "collapsed": false,
     "input": [
      "def correlate(tlist):\n",
      "    try:\n",
      "        xname = tickerpairs[tlist][0]\n",
      "        yname = tickerpairs[tlist][1]\n",
      "        x = testData[xname]\n",
      "        y = testData[yname]\n",
      "        if min(x.count(), y.count()) > 240:\n",
      "            corrs = x.corr(y)\n",
      "            return([(xname, yname)], corrs)\n",
      "        else:\n",
      "            return()\n",
      "    except ValueError:\n",
      "        return()\n",
      "    except TypeError:\n",
      "        return()\n",
      "\n",
      "\n",
      "if __name__ == '__main__':\n",
      "    testCorrPool = Pool(processes=4)\n",
      "    #Test just the first 100 pairs - remove [0:100] for full test\n",
      "    testCorrResult = pd.DataFrame(testCorrPool.map(correlate, trainCorrTop.index))\n",
      "    \n",
      "testCorrPool.close()"
     ],
     "language": "python",
     "metadata": {},
     "outputs": [],
     "prompt_number": 70
    },
    {
     "cell_type": "code",
     "collapsed": false,
     "input": [
      "testCorrResult.columns = ['pair','corr']\n",
      "plt.scatter(trainCorrTop['corr'], testCorrResult['corr'])\n",
      "plt.show()"
     ],
     "language": "python",
     "metadata": {},
     "outputs": [],
     "prompt_number": 73
    },
    {
     "cell_type": "code",
     "collapsed": false,
     "input": [],
     "language": "python",
     "metadata": {},
     "outputs": []
    }
   ],
   "metadata": {}
  }
 ]
}