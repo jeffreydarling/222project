{
 "metadata": {
  "name": ""
 },
 "nbformat": 3,
 "nbformat_minor": 0,
 "worksheets": [
  {
   "cells": [
    {
     "cell_type": "heading",
     "level": 1,
     "metadata": {},
     "source": [
      "Stat222 Capstone Project - Pairs Trading"
     ]
    },
    {
     "cell_type": "heading",
     "level": 2,
     "metadata": {},
     "source": [
      "Import required libraries"
     ]
    },
    {
     "cell_type": "code",
     "collapsed": false,
     "input": [
      "import pandas as pd\n",
      "import scipy.stats as stats\n",
      "import numpy as np\n",
      "import matplotlib.pyplot as plt\n",
      "import statsmodels.api as stat\n",
      "import statsmodels.tsa.stattools as ts\n",
      "from itertools import combinations\n",
      "import multiprocessing\n",
      "from multiprocessing import Pool"
     ],
     "language": "python",
     "metadata": {},
     "outputs": [],
     "prompt_number": 1
    },
    {
     "cell_type": "heading",
     "level": 2,
     "metadata": {},
     "source": [
      "Using manually downloaded WRDS (Wharton) data"
     ]
    },
    {
     "cell_type": "code",
     "collapsed": false,
     "input": [
      "# Unzip and import sorted stock data - currently using test file to manage load times\n",
      "!gunzip -c wrdsDownload.csv.gz | head -n1 > wrdsSorted.csv\n",
      "!gunzip -c wrdsDownload.csv.gz | tail -n +2 | sort -t, -k2,2 >> wrdsSorted.csv\n",
      "# Use absolute values to clean up incorrect negative values\n",
      "wrdsData = pd.io.parsers.read_csv(\"wrdsSorted.csv\", sep = \",\", index_col=[0,1], parse_dates=0, usecols = [1,2,3]).abs()"
     ],
     "language": "python",
     "metadata": {},
     "outputs": [
      {
       "output_type": "stream",
       "stream": "stdout",
       "text": [
        "gunzip: error writing to output: Broken pipe\r\n",
        "gunzip: wrdsDownload.csv.gz: uncompress failed\r\n"
       ]
      }
     ],
     "prompt_number": 3
    },
    {
     "cell_type": "code",
     "collapsed": false,
     "input": [
      "# Known issue with usecols is wrong index names\n",
      "wrdsData.index.names = ['date', 'ticker']\n",
      "wrdsData.head()"
     ],
     "language": "python",
     "metadata": {},
     "outputs": [
      {
       "html": [
        "<div style=\"max-height:1000px;max-width:1500px;overflow:auto;\">\n",
        "<table border=\"1\" class=\"dataframe\">\n",
        "  <thead>\n",
        "    <tr style=\"text-align: right;\">\n",
        "      <th></th>\n",
        "      <th></th>\n",
        "      <th>PRC</th>\n",
        "    </tr>\n",
        "    <tr>\n",
        "      <th>date</th>\n",
        "      <th>ticker</th>\n",
        "      <th></th>\n",
        "    </tr>\n",
        "  </thead>\n",
        "  <tbody>\n",
        "    <tr>\n",
        "      <th rowspan=\"5\" valign=\"top\">2011-01-03</th>\n",
        "      <th>AEPI</th>\n",
        "      <td> 26.510</td>\n",
        "    </tr>\n",
        "    <tr>\n",
        "      <th>JJSF</th>\n",
        "      <td> 49.440</td>\n",
        "    </tr>\n",
        "    <tr>\n",
        "      <th>PLXS</th>\n",
        "      <td> 31.770</td>\n",
        "    </tr>\n",
        "    <tr>\n",
        "      <th>RMCF</th>\n",
        "      <td>  9.861</td>\n",
        "    </tr>\n",
        "    <tr>\n",
        "      <th>MSFT</th>\n",
        "      <td> 27.980</td>\n",
        "    </tr>\n",
        "  </tbody>\n",
        "</table>\n",
        "<p>5 rows \u00d7 1 columns</p>\n",
        "</div>"
       ],
       "metadata": {},
       "output_type": "pyout",
       "prompt_number": 10,
       "text": [
        "                      PRC\n",
        "date       ticker        \n",
        "2011-01-03 AEPI    26.510\n",
        "           JJSF    49.440\n",
        "           PLXS    31.770\n",
        "           RMCF     9.861\n",
        "           MSFT    27.980\n",
        "\n",
        "[5 rows x 1 columns]"
       ]
      }
     ],
     "prompt_number": 10
    },
    {
     "cell_type": "code",
     "collapsed": false,
     "input": [
      "# Test selection of prices by ticker symbol\n",
      "wrdsData.xs('MSFT', level='ticker').head(5)"
     ],
     "language": "python",
     "metadata": {},
     "outputs": [
      {
       "html": [
        "<div style=\"max-height:1000px;max-width:1500px;overflow:auto;\">\n",
        "<table border=\"1\" class=\"dataframe\">\n",
        "  <thead>\n",
        "    <tr style=\"text-align: right;\">\n",
        "      <th></th>\n",
        "      <th>PRC</th>\n",
        "    </tr>\n",
        "    <tr>\n",
        "      <th>date</th>\n",
        "      <th></th>\n",
        "    </tr>\n",
        "  </thead>\n",
        "  <tbody>\n",
        "    <tr>\n",
        "      <th>2011-01-03</th>\n",
        "      <td> 27.9800</td>\n",
        "    </tr>\n",
        "    <tr>\n",
        "      <th>2011-01-04</th>\n",
        "      <td> 28.0875</td>\n",
        "    </tr>\n",
        "    <tr>\n",
        "      <th>2011-01-05</th>\n",
        "      <td> 28.0000</td>\n",
        "    </tr>\n",
        "    <tr>\n",
        "      <th>2011-01-06</th>\n",
        "      <td> 28.8200</td>\n",
        "    </tr>\n",
        "    <tr>\n",
        "      <th>2011-01-07</th>\n",
        "      <td> 28.6000</td>\n",
        "    </tr>\n",
        "  </tbody>\n",
        "</table>\n",
        "<p>5 rows \u00d7 1 columns</p>\n",
        "</div>"
       ],
       "metadata": {},
       "output_type": "pyout",
       "prompt_number": 11,
       "text": [
        "                PRC\n",
        "date               \n",
        "2011-01-03  27.9800\n",
        "2011-01-04  28.0875\n",
        "2011-01-05  28.0000\n",
        "2011-01-06  28.8200\n",
        "2011-01-07  28.6000\n",
        "\n",
        "[5 rows x 1 columns]"
       ]
      }
     ],
     "prompt_number": 11
    },
    {
     "cell_type": "code",
     "collapsed": false,
     "input": [
      "#Create training and testing data sets\n",
      "trainData = wrdsData.ix['20110103':'20121231']\n",
      "testData = wrdsData.ix['20130102':'20131231']\n",
      "print trainData.head()\n",
      "print testData.head()"
     ],
     "language": "python",
     "metadata": {},
     "outputs": [
      {
       "output_type": "stream",
       "stream": "stdout",
       "text": [
        "                      PRC\n",
        "date       ticker        \n",
        "2011-01-03 AEPI    26.510\n",
        "           JJSF    49.440\n",
        "           PLXS    31.770\n",
        "           RMCF     9.861\n",
        "           MSFT    27.980\n",
        "\n",
        "[5 rows x 1 columns]\n",
        "                     PRC\n",
        "date       ticker       \n",
        "2013-01-02 AEPI    61.61\n",
        "           JJSF    64.32\n",
        "           PLXS    26.82\n",
        "           RMCF    10.93\n",
        "           MSFT    27.62\n",
        "\n",
        "[5 rows x 1 columns]\n"
       ]
      }
     ],
     "prompt_number": 15
    },
    {
     "cell_type": "heading",
     "level": 1,
     "metadata": {},
     "source": [
      "How many pairs are there?"
     ]
    },
    {
     "cell_type": "code",
     "collapsed": false,
     "input": [
      "!gunzip -c wrdsDownload.csv.gz | tail -n +2 | cut -f 2 > tickerlist.csv\n",
      "tickers = pd.io.parsers.read_csv(\"tickerlist.csv\", sep = \",\",header=None)\n",
      "tickerlist = sorted(list(set(tickers[2])))[1:]\n",
      "tickerpairs = list(combinations(tickerlist,2))\n",
      "print tickerpairs[:10] #look at first 10 combinations of pairs\n",
      "print len(tickerpairs) #over 2.5 million possible pairs, too much data to analyze?"
     ],
     "language": "python",
     "metadata": {},
     "outputs": [
      {
       "output_type": "stream",
       "stream": "stdout",
       "text": [
        "[('AAIT', 'AAL'), ('AAIT', 'AAME'), ('AAIT', 'AAOI'), ('AAIT', 'AAON'), ('AAIT', 'AAPL'), ('AAIT', 'AAWW'), ('AAIT', 'AAXJ'), ('AAIT', 'ABAX'), ('AAIT', 'ABCB'), ('AAIT', 'ABCD')]\n",
        "3885078\n"
       ]
      }
     ],
     "prompt_number": 18
    },
    {
     "cell_type": "heading",
     "level": 1,
     "metadata": {},
     "source": [
      "Distance Method"
     ]
    },
    {
     "cell_type": "code",
     "collapsed": false,
     "input": [
      "# Parallel processing for sum-square-distance\n",
      "def dist(tlist):\n",
      "    xname = tlist[0]\n",
      "    yname = tlist[1]\n",
      "    x = trainData.xs(xname, level='ticker').PRC/(trainData.xs(xname, level='ticker').PRC[0])\n",
      "    y = trainData.xs(yname, level='ticker').PRC/(trainData.xs(yname, level='ticker').PRC[0])\n",
      "    return([(xname, yname)], sum(map(lambda z:z**2, x-y)))\n",
      "\n",
      "if __name__ == '__main__':\n",
      "    pool = Pool(processes=4)\n",
      "    #Test just the first 100 pairs - remove [0:100] for full test\n",
      "    result = pd.DataFrame(pool.map(dist, tickerpairs[0:100]))\n",
      "\n",
      "pool.close()\n",
      "smallssd = result.sort(columns = 1)[0:5]\n",
      "print smallssd"
     ],
     "language": "python",
     "metadata": {},
     "outputs": [
      {
       "ename": "IndexError",
       "evalue": "index out of bounds",
       "output_type": "pyerr",
       "traceback": [
        "\u001b[0;31m---------------------------------------------------------------------------\u001b[0m\n\u001b[0;31mIndexError\u001b[0m                                Traceback (most recent call last)",
        "\u001b[0;32m<ipython-input-19-c6b36781376b>\u001b[0m in \u001b[0;36m<module>\u001b[0;34m()\u001b[0m\n\u001b[1;32m     10\u001b[0m     \u001b[0mpool\u001b[0m \u001b[0;34m=\u001b[0m \u001b[0mPool\u001b[0m\u001b[0;34m(\u001b[0m\u001b[0mprocesses\u001b[0m\u001b[0;34m=\u001b[0m\u001b[0;36m4\u001b[0m\u001b[0;34m)\u001b[0m\u001b[0;34m\u001b[0m\u001b[0m\n\u001b[1;32m     11\u001b[0m     \u001b[0;31m#Test just the first 100 pairs - remove [0:100] for full test\u001b[0m\u001b[0;34m\u001b[0m\u001b[0;34m\u001b[0m\u001b[0m\n\u001b[0;32m---> 12\u001b[0;31m     \u001b[0mresult\u001b[0m \u001b[0;34m=\u001b[0m \u001b[0mpd\u001b[0m\u001b[0;34m.\u001b[0m\u001b[0mDataFrame\u001b[0m\u001b[0;34m(\u001b[0m\u001b[0mpool\u001b[0m\u001b[0;34m.\u001b[0m\u001b[0mmap\u001b[0m\u001b[0;34m(\u001b[0m\u001b[0mdist\u001b[0m\u001b[0;34m,\u001b[0m \u001b[0mtickerpairs\u001b[0m\u001b[0;34m[\u001b[0m\u001b[0;36m0\u001b[0m\u001b[0;34m:\u001b[0m\u001b[0;36m100\u001b[0m\u001b[0;34m]\u001b[0m\u001b[0;34m)\u001b[0m\u001b[0;34m)\u001b[0m\u001b[0;34m\u001b[0m\u001b[0m\n\u001b[0m\u001b[1;32m     13\u001b[0m \u001b[0;34m\u001b[0m\u001b[0m\n\u001b[1;32m     14\u001b[0m \u001b[0mpool\u001b[0m\u001b[0;34m.\u001b[0m\u001b[0mclose\u001b[0m\u001b[0;34m(\u001b[0m\u001b[0;34m)\u001b[0m\u001b[0;34m\u001b[0m\u001b[0m\n",
        "\u001b[0;32m/Users/docsmitty/anaconda/python.app/Contents/lib/python2.7/multiprocessing/pool.pyc\u001b[0m in \u001b[0;36mmap\u001b[0;34m(self, func, iterable, chunksize)\u001b[0m\n\u001b[1;32m    248\u001b[0m         '''\n\u001b[1;32m    249\u001b[0m         \u001b[0;32massert\u001b[0m \u001b[0mself\u001b[0m\u001b[0;34m.\u001b[0m\u001b[0m_state\u001b[0m \u001b[0;34m==\u001b[0m \u001b[0mRUN\u001b[0m\u001b[0;34m\u001b[0m\u001b[0m\n\u001b[0;32m--> 250\u001b[0;31m         \u001b[0;32mreturn\u001b[0m \u001b[0mself\u001b[0m\u001b[0;34m.\u001b[0m\u001b[0mmap_async\u001b[0m\u001b[0;34m(\u001b[0m\u001b[0mfunc\u001b[0m\u001b[0;34m,\u001b[0m \u001b[0miterable\u001b[0m\u001b[0;34m,\u001b[0m \u001b[0mchunksize\u001b[0m\u001b[0;34m)\u001b[0m\u001b[0;34m.\u001b[0m\u001b[0mget\u001b[0m\u001b[0;34m(\u001b[0m\u001b[0;34m)\u001b[0m\u001b[0;34m\u001b[0m\u001b[0m\n\u001b[0m\u001b[1;32m    251\u001b[0m \u001b[0;34m\u001b[0m\u001b[0m\n\u001b[1;32m    252\u001b[0m     \u001b[0;32mdef\u001b[0m \u001b[0mimap\u001b[0m\u001b[0;34m(\u001b[0m\u001b[0mself\u001b[0m\u001b[0;34m,\u001b[0m \u001b[0mfunc\u001b[0m\u001b[0;34m,\u001b[0m \u001b[0miterable\u001b[0m\u001b[0;34m,\u001b[0m \u001b[0mchunksize\u001b[0m\u001b[0;34m=\u001b[0m\u001b[0;36m1\u001b[0m\u001b[0;34m)\u001b[0m\u001b[0;34m:\u001b[0m\u001b[0;34m\u001b[0m\u001b[0m\n",
        "\u001b[0;32m/Users/docsmitty/anaconda/python.app/Contents/lib/python2.7/multiprocessing/pool.pyc\u001b[0m in \u001b[0;36mget\u001b[0;34m(self, timeout)\u001b[0m\n\u001b[1;32m    552\u001b[0m             \u001b[0;32mreturn\u001b[0m \u001b[0mself\u001b[0m\u001b[0;34m.\u001b[0m\u001b[0m_value\u001b[0m\u001b[0;34m\u001b[0m\u001b[0m\n\u001b[1;32m    553\u001b[0m         \u001b[0;32melse\u001b[0m\u001b[0;34m:\u001b[0m\u001b[0;34m\u001b[0m\u001b[0m\n\u001b[0;32m--> 554\u001b[0;31m             \u001b[0;32mraise\u001b[0m \u001b[0mself\u001b[0m\u001b[0;34m.\u001b[0m\u001b[0m_value\u001b[0m\u001b[0;34m\u001b[0m\u001b[0m\n\u001b[0m\u001b[1;32m    555\u001b[0m \u001b[0;34m\u001b[0m\u001b[0m\n\u001b[1;32m    556\u001b[0m     \u001b[0;32mdef\u001b[0m \u001b[0m_set\u001b[0m\u001b[0;34m(\u001b[0m\u001b[0mself\u001b[0m\u001b[0;34m,\u001b[0m \u001b[0mi\u001b[0m\u001b[0;34m,\u001b[0m \u001b[0mobj\u001b[0m\u001b[0;34m)\u001b[0m\u001b[0;34m:\u001b[0m\u001b[0;34m\u001b[0m\u001b[0m\n",
        "\u001b[0;31mIndexError\u001b[0m: index out of bounds"
       ]
      }
     ],
     "prompt_number": 19
    },
    {
     "cell_type": "code",
     "collapsed": false,
     "input": [
      "# Time series plot of standardized stock prices\n",
      "# Updated to use parallel processing output\n",
      "\n",
      "plt.figure(1)\n",
      "i = 1\n",
      "for a in smallssd.index:\n",
      "  stock1 = tickerpairs[a][0]\n",
      "  stock2 = tickerpairs[a][1]\n",
      "  pairsprice1 = trainData.xs(stock1, level='ticker').PRC/(trainData.xs(stock1, level='ticker').PRC[0])\n",
      "  pairsprice2 = trainData.xs(stock2, level='ticker').PRC/(trainData.xs(stock2, level='ticker').PRC[0])\n",
      "  plt.subplot(1,5,i)\n",
      "  plt.plot_date(pairsprice1.index, pairsprice1,'r')\n",
      "  plt.plot_date(pairsprice1.index, pairsprice2,'b')\n",
      "  plt.legend([stock1,stock2])\n",
      "  plt.xlabel('Date')\n",
      "  plt.ylabel('Standardized Price')\n",
      "  plt.title('Time Series Plot of '+stock1+' vs '+stock2)\n",
      "  i += 1\n",
      "\n",
      "plt.gcf().autofmt_xdate(rotation=90)  #Make the data labels on the x-axis vertical\n",
      "plt.show()"
     ],
     "language": "python",
     "metadata": {},
     "outputs": [],
     "prompt_number": 7
    },
    {
     "cell_type": "code",
     "collapsed": false,
     "input": [
      "#Time series plot of average gap in standardized price\n",
      "plt.figure(2)\n",
      "i = 1\n",
      "for a in smallssd.index:\n",
      "  stock1 = tickerpairs[a][0]\n",
      "  stock2 = tickerpairs[a][1]\n",
      "  #Updated to reflect standardized price differential\n",
      "  pairsprice1 = trainData.xs(stock1, level='ticker').PRC/(trainData.xs(stock1, level='ticker').PRC[0])\n",
      "  pairsprice2 = trainData.xs(stock2, level='ticker').PRC/(trainData.xs(stock2, level='ticker').PRC[0])\n",
      "  pairsgap = pairsprice1-pairsprice2\n",
      "  plt.subplot(1,5,i)\n",
      "  plt.plot(pairsprice1.index, pairsgap,'b')\n",
      "  plt.legend([stock1,stock2])\n",
      "  plt.xlabel('Date')\n",
      "  plt.ylabel('Price')\n",
      "  plt.title('Gap Price between '+stock1+' vs '+stock2)\n",
      "  i += 1\n",
      "\n",
      "plt.gcf().autofmt_xdate(rotation=90)    #Make the data labels on the x-axis vertical\n",
      "plt.show()"
     ],
     "language": "python",
     "metadata": {},
     "outputs": [],
     "prompt_number": 8
    },
    {
     "cell_type": "heading",
     "level": 1,
     "metadata": {},
     "source": [
      "Co-Integration (ADF) Test"
     ]
    },
    {
     "cell_type": "code",
     "collapsed": false,
     "input": [
      "# Parallel processing for cointegration test:\n",
      "def cointegration_test(y, x):\n",
      "        result = stat.OLS(y, x).fit()\n",
      "        return(ts.adfuller(result.resid))\n",
      "\n",
      "\n",
      "def coint(tlist):\n",
      "    try:\n",
      "        xname = tlist[0]\n",
      "        yname = tlist[1]\n",
      "        x = trainData.xs(xname, level='ticker').PRC\n",
      "        y = trainData.xs(yname, level='ticker').PRC\n",
      "        xclean = x[x.notnull() & y.notnull()]\n",
      "        yclean = y[x.notnull() & y.notnull()]\n",
      "        xp = list(xclean)\n",
      "        yp = list(yclean)\n",
      "        return([(xname, yname)], cointegration_test(xp,yp)[1]) #get the p-value of test for each pair\n",
      "    except ValueError:\n",
      "        return()\n",
      "    except TypeError:\n",
      "        return()\n",
      "\n",
      "\n",
      "if __name__ == '__main__':\n",
      "    pool = Pool(processes=4)\n",
      "    #Test just the first 100 pairs - remove [0:100] for full test\n",
      "    cointResult = pd.DataFrame(pool.map(coint, tickerpairs[0:100]))\n",
      "\n",
      "pool.close()\n",
      "smallCoint = cointResult.sort(columns = 1)[0:5]\n",
      "print smallCoint"
     ],
     "language": "python",
     "metadata": {},
     "outputs": [
      {
       "output_type": "stream",
       "stream": "stdout",
       "text": [
        "                 0         1\n",
        "75  [(AAME, ALCO)]  0.001548\n",
        "90  [(AAME, AMAG)]  0.001574\n",
        "8   [(AAME, ABFS)]  0.001704\n",
        "70  [(AAME, AIRT)]  0.001790\n",
        "18  [(AAME, ACFN)]  0.004354\n",
        "\n",
        "[5 rows x 2 columns]\n"
       ]
      }
     ],
     "prompt_number": 8
    },
    {
     "cell_type": "heading",
     "level": 1,
     "metadata": {},
     "source": [
      "Controlling the false discovery rate: Benjamini\u2013Hochberg procedure"
     ]
    },
    {
     "cell_type": "code",
     "collapsed": false,
     "input": [
      "#Control for false discovery rate using Benjamani Hockberg procedure (From Wikipedia):\n",
      "#Assume there are m hypothesis tests.\n",
      "#Order the p-values in increasing order and call them P_(1),P_(2),....,P_(m)\n",
      "#Then the steps for the procedure are as follows:\n",
      "#1) For a given alpha, find the largest k such that P_(k) <= (k/m)*alpha\n",
      "#2) Then reject all H_(i) for i = 1,2,...,k\n",
      "\n",
      "from __future__ import division  #need this bc python cannot do division for integers properly without it \n",
      "Cointp = cointResult.sort(columns = 1)\n",
      "cointpvalues = list(Cointp[Cointp.columns[1]])\n",
      "m = len(cointpvalues)\n",
      "alpha = 0.2  #False Discovery Rate (20% is used, Can tweak this if necessary)\n",
      "\n",
      "k = 0\n",
      "while cointpvalues[k] <= ((k+1)/m)*alpha:  #Obtain the k from step 1)\n",
      "    k += 1\n",
      "\n",
      "print k\n",
      "print Cointp[:k] #significant pairs under BH procedure\n"
     ],
     "language": "python",
     "metadata": {},
     "outputs": [
      {
       "output_type": "stream",
       "stream": "stdout",
       "text": [
        "17\n",
        "                 0         1\n",
        "75  [(AAME, ALCO)]  0.001548\n",
        "90  [(AAME, AMAG)]  0.001574\n",
        "8   [(AAME, ABFS)]  0.001704\n",
        "70  [(AAME, AIRT)]  0.001790\n",
        "18  [(AAME, ACFN)]  0.004354\n",
        "34  [(AAME, ADBE)]  0.007413\n",
        "39  [(AAME, ADRA)]  0.010417\n",
        "1   [(AAME, AAPL)]  0.010599\n",
        "80  [(AAME, ALLB)]  0.012542\n",
        "49  [(AAME, AEIS)]  0.013229\n",
        "6   [(AAME, ABCD)]  0.013351\n",
        "41  [(AAME, ADRE)]  0.014833\n",
        "25  [(AAME, ACPW)]  0.016124\n",
        "46  [(AAME, ADVS)]  0.017627\n",
        "5   [(AAME, ABCB)]  0.021127\n",
        "68   [(AAME, AIQ)]  0.025048\n",
        "14  [(AAME, ACAT)]  0.026387\n",
        "\n",
        "[17 rows x 2 columns]\n"
       ]
      }
     ],
     "prompt_number": 9
    },
    {
     "cell_type": "code",
     "collapsed": false,
     "input": [
      "#Plot for \n",
      "plt.figure(3)\n",
      "i = 1\n",
      "for a in smallCoint.index:\n",
      "  stock1 = tickerpairs[a][0]\n",
      "  stock2 = tickerpairs[a][1]\n",
      "  pairsprice1 = trainData.xs(stock1, level='ticker').PRC\n",
      "  pairsprice2 = trainData.xs(stock2, level='ticker').PRC\n",
      "  plt.subplot(1,5,i)\n",
      "  plt.plot_date(pairsprice1.index, pairsprice1,'r')\n",
      "  plt.plot_date(pairsprice1.index, pairsprice2,'b')\n",
      "  plt.legend([stock1,stock2])\n",
      "  plt.xlabel('Date')\n",
      "  plt.ylabel('Stock Price')\n",
      "  plt.title(stock1+' vs '+stock2) \n",
      "  i += 1\n",
      "\n",
      "plt.gcf().autofmt_xdate(rotation=90)   #Make the data labels on the x-axis vertical\n",
      "plt.show()"
     ],
     "language": "python",
     "metadata": {},
     "outputs": [],
     "prompt_number": 8
    },
    {
     "cell_type": "code",
     "collapsed": false,
     "input": [
      "plt.figure(4)\n",
      "i = 1\n",
      "for a in smallCoint.index:\n",
      "  stock1 = tickerpairs[a][0]\n",
      "  stock2 = tickerpairs[a][1]\n",
      "  pairsprice1 = trainData.xs(stock1, level='ticker').PRC\n",
      "  pairsprice2 = trainData.xs(stock2, level='ticker').PRC\n",
      "  pairsgap = pairsprice1-pairsprice2\n",
      "  plt.subplot(1,5,i)\n",
      "  plt.plot(pairsprice1.index, pairsgap,'b')\n",
      "  plt.legend([stock1,stock2])\n",
      "  plt.xlabel('Date')\n",
      "  plt.ylabel('Gap Price')\n",
      "  plt.title(stock1+' vs '+stock2)\n",
      "  i += 1\n",
      "\n",
      "plt.gcf().autofmt_xdate(rotation=90)    #Make the data labels on the x-axis vertical\n",
      "plt.show()"
     ],
     "language": "python",
     "metadata": {},
     "outputs": [],
     "prompt_number": 9
    },
    {
     "cell_type": "heading",
     "level": 1,
     "metadata": {},
     "source": [
      "Correlation "
     ]
    },
    {
     "cell_type": "code",
     "collapsed": false,
     "input": [
      "def correlate(tlist):\n",
      "    try:\n",
      "        xname = tlist[0]\n",
      "        yname = tlist[1]\n",
      "        corrs = np.corrcoef(trainData.xs(xname,level='ticker').PRC,trainData.xs(yname, level='ticker').PRC)[0,1]\n",
      "        return([(xname, yname)], corrs)\n",
      "    except ValueError:\n",
      "        return()\n",
      "    except TypeError:\n",
      "        return()\n",
      "\n",
      "\n",
      "if __name__ == '__main__':\n",
      "    pool = Pool(processes=4)\n",
      "    #Test just the first 100 pairs - remove [0:100] for full test\n",
      "    corrpairs = pd.DataFrame(pool.map(correlate, tickerpairs[0:100]))\n",
      "    \n",
      "pool.close()\n",
      "pairscorrelated = corrpairs.sort(columns = 1, ascending=False)[1:6]\n",
      "print pairscorrelated\n"
     ],
     "language": "python",
     "metadata": {},
     "outputs": [
      {
       "output_type": "stream",
       "stream": "stdout",
       "text": [
        "                 0         1\n",
        "92  [(AAME, AMAT)]  0.575924\n",
        "99  [(AAME, AMKR)]  0.545626\n",
        "16  [(AAME, ACET)]  0.533371\n",
        "72  [(AAME, AIXG)]  0.503373\n",
        "95  [(AAME, AMCN)]  0.495158\n",
        "\n",
        "[5 rows x 2 columns]\n"
       ]
      }
     ],
     "prompt_number": 10
    },
    {
     "cell_type": "code",
     "collapsed": false,
     "input": [
      "plt.figure(5)\n",
      "i = 1\n",
      "for a in pairscorrelated.index:\n",
      "  stock1 = tickerpairs[a][0]\n",
      "  stock2 = tickerpairs[a][1]\n",
      "  pairsprice1 = trainData.xs(stock1, level='ticker').PRC\n",
      "  pairsprice2 = trainData.xs(stock2, level='ticker').PRC\n",
      "  plt.subplot(1,5,i)\n",
      "  plt.plot_date(pairsprice1.index, pairsprice1,'r')\n",
      "  plt.plot_date(pairsprice1.index, pairsprice2,'b')\n",
      "  plt.legend([stock1,stock2])\n",
      "  plt.xlabel('Date')\n",
      "  plt.ylabel('Stock Price')\n",
      "  plt.title(stock1+' vs '+stock2) \n",
      "  i += 1\n",
      "\n",
      "plt.gcf().autofmt_xdate(rotation=90)   #Make the data labels on the x-axis vertical\n",
      "plt.show()"
     ],
     "language": "python",
     "metadata": {},
     "outputs": [],
     "prompt_number": 11
    },
    {
     "cell_type": "code",
     "collapsed": false,
     "input": [
      "plt.figure(6)\n",
      "i = 1\n",
      "for a in pairscorrelated.index:\n",
      "  stock1 = tickerpairs[a][0]\n",
      "  stock2 = tickerpairs[a][1]\n",
      "  pairsprice1 = trainData.xs(stock1, level='ticker').PRC\n",
      "  pairsprice2 = trainData.xs(stock2, level='ticker').PRC\n",
      "  pairsgap = pairsprice1-pairsprice2\n",
      "  plt.subplot(1,5,i)\n",
      "  plt.plot(pairsprice1.index, pairsgap,'b')\n",
      "  plt.legend([stock1,stock2])\n",
      "  plt.xlabel('Date')\n",
      "  plt.ylabel('Gap Price')\n",
      "  plt.title(stock1 +' vs '+stock2)\n",
      "  i += 1\n",
      "\n",
      "plt.gcf().autofmt_xdate(rotation=90)    #Make the data labels on the x-axis vertical\n",
      "plt.show()"
     ],
     "language": "python",
     "metadata": {},
     "outputs": [],
     "prompt_number": 12
    },
    {
     "cell_type": "code",
     "collapsed": false,
     "input": [
      "#Histogram of the Correlation of the stock pairs\n",
      "\n",
      "correls = list(corrpairs[corrpairs.columns[1]])\n",
      "categories = ['< 0.0','0.0-0.1','0.1-0.2','0.2-0.3','0.3-0.4','0.4-0.5','0.5-0.6','0.6-0.7','0.7-0.8','0.8-0.9','0.9-1.0']\n",
      "\n",
      "freq0 = len([cor for cor in correls if cor < 0.0])\n",
      "freq1 = len([cor for cor in correls if 0.0 <= cor < 0.1])\n",
      "freq2 = len([cor for cor in correls if 0.1 <= cor < 0.2])\n",
      "freq3 = len([cor for cor in correls if 0.2 <= cor < 0.3])\n",
      "freq4 = len([cor for cor in correls if 0.3 <= cor < 0.4])\n",
      "freq5 = len([cor for cor in correls if 0.4 <= cor < 0.5])\n",
      "freq6 = len([cor for cor in correls if 0.5 <= cor < 0.6])\n",
      "freq7 = len([cor for cor in correls if 0.6 <= cor < 0.7])\n",
      "freq8 = len([cor for cor in correls if 0.7 <= cor < 0.8])\n",
      "freq9 = len([cor for cor in correls if 0.8 <= cor < 0.9])\n",
      "freq10 = len([cor for cor in correls if 0.9 <= cor < 1.0])\n",
      "\n",
      "cat = np.arange(len(categories))\n",
      "frequencies = [freq0,freq1,freq2,freq3,freq4,freq5,freq6,freq7,freq8,freq9,freq10]\n",
      "\n",
      "width = 1.0     # gives histogram aspect to the bar diagram\n",
      "\n",
      "ax = plt.axes()\n",
      "ax.set_xticks(cat + (width / 2))\n",
      "ax.set_xticklabels(categories)\n",
      "\n",
      "plt.bar(cat,frequencies,width)\n",
      "plt.xlabel('Correlation Ranges')\n",
      "plt.ylabel('Frequencies')\n",
      "plt.title('Histogram of Correlation of Stock Pairs') \n",
      "plt.show()"
     ],
     "language": "python",
     "metadata": {},
     "outputs": [],
     "prompt_number": 10
    },
    {
     "cell_type": "code",
     "collapsed": false,
     "input": [],
     "language": "python",
     "metadata": {},
     "outputs": []
    }
   ],
   "metadata": {}
  }
 ]
}