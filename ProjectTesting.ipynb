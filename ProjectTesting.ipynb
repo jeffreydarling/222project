{
 "metadata": {
  "name": ""
 },
 "nbformat": 3,
 "nbformat_minor": 0,
 "worksheets": [
  {
   "cells": [
    {
     "cell_type": "heading",
     "level": 1,
     "metadata": {},
     "source": [
      "Testing Suite for Pairs-Trading Project"
     ]
    },
    {
     "cell_type": "code",
     "collapsed": false,
     "input": [
      "import pandas as pd\n",
      "import scipy.stats as stats\n",
      "import numpy as np\n",
      "import matplotlib.pyplot as plt\n",
      "import statsmodels.api as stat\n",
      "import statsmodels.tsa.stattools as ts\n",
      "from itertools import combinations\n",
      "import multiprocessing\n",
      "from multiprocessing import Pool\n",
      "import cPickle as pkl"
     ],
     "language": "python",
     "metadata": {},
     "outputs": [],
     "prompt_number": 1
    },
    {
     "cell_type": "heading",
     "level": 3,
     "metadata": {},
     "source": [
      "Distance Test"
     ]
    },
    {
     "cell_type": "code",
     "collapsed": false,
     "input": [
      "# Create list of pairs\n",
      "pairList = list(combinations(range(10), 2))\n",
      "# Create distance test data\n",
      "data = np.array([np.arange(10)**2]*10)+1\n",
      "distDF = pd.DataFrame(data)\n",
      "distDF.head()"
     ],
     "language": "python",
     "metadata": {},
     "outputs": [
      {
       "html": [
        "<div style=\"max-height:1000px;max-width:1500px;overflow:auto;\">\n",
        "<table border=\"1\" class=\"dataframe\">\n",
        "  <thead>\n",
        "    <tr style=\"text-align: right;\">\n",
        "      <th></th>\n",
        "      <th>0</th>\n",
        "      <th>1</th>\n",
        "      <th>2</th>\n",
        "      <th>3</th>\n",
        "      <th>4</th>\n",
        "      <th>5</th>\n",
        "      <th>6</th>\n",
        "      <th>7</th>\n",
        "      <th>8</th>\n",
        "      <th>9</th>\n",
        "    </tr>\n",
        "  </thead>\n",
        "  <tbody>\n",
        "    <tr>\n",
        "      <th>0</th>\n",
        "      <td> 1</td>\n",
        "      <td> 2</td>\n",
        "      <td> 5</td>\n",
        "      <td> 10</td>\n",
        "      <td> 17</td>\n",
        "      <td> 26</td>\n",
        "      <td> 37</td>\n",
        "      <td> 50</td>\n",
        "      <td> 65</td>\n",
        "      <td> 82</td>\n",
        "    </tr>\n",
        "    <tr>\n",
        "      <th>1</th>\n",
        "      <td> 1</td>\n",
        "      <td> 2</td>\n",
        "      <td> 5</td>\n",
        "      <td> 10</td>\n",
        "      <td> 17</td>\n",
        "      <td> 26</td>\n",
        "      <td> 37</td>\n",
        "      <td> 50</td>\n",
        "      <td> 65</td>\n",
        "      <td> 82</td>\n",
        "    </tr>\n",
        "    <tr>\n",
        "      <th>2</th>\n",
        "      <td> 1</td>\n",
        "      <td> 2</td>\n",
        "      <td> 5</td>\n",
        "      <td> 10</td>\n",
        "      <td> 17</td>\n",
        "      <td> 26</td>\n",
        "      <td> 37</td>\n",
        "      <td> 50</td>\n",
        "      <td> 65</td>\n",
        "      <td> 82</td>\n",
        "    </tr>\n",
        "    <tr>\n",
        "      <th>3</th>\n",
        "      <td> 1</td>\n",
        "      <td> 2</td>\n",
        "      <td> 5</td>\n",
        "      <td> 10</td>\n",
        "      <td> 17</td>\n",
        "      <td> 26</td>\n",
        "      <td> 37</td>\n",
        "      <td> 50</td>\n",
        "      <td> 65</td>\n",
        "      <td> 82</td>\n",
        "    </tr>\n",
        "    <tr>\n",
        "      <th>4</th>\n",
        "      <td> 1</td>\n",
        "      <td> 2</td>\n",
        "      <td> 5</td>\n",
        "      <td> 10</td>\n",
        "      <td> 17</td>\n",
        "      <td> 26</td>\n",
        "      <td> 37</td>\n",
        "      <td> 50</td>\n",
        "      <td> 65</td>\n",
        "      <td> 82</td>\n",
        "    </tr>\n",
        "  </tbody>\n",
        "</table>\n",
        "<p>5 rows \u00d7 10 columns</p>\n",
        "</div>"
       ],
       "metadata": {},
       "output_type": "pyout",
       "prompt_number": 2,
       "text": [
        "   0  1  2   3   4   5   6   7   8   9\n",
        "0  1  2  5  10  17  26  37  50  65  82\n",
        "1  1  2  5  10  17  26  37  50  65  82\n",
        "2  1  2  5  10  17  26  37  50  65  82\n",
        "3  1  2  5  10  17  26  37  50  65  82\n",
        "4  1  2  5  10  17  26  37  50  65  82\n",
        "\n",
        "[5 rows x 10 columns]"
       ]
      }
     ],
     "prompt_number": 2
    },
    {
     "cell_type": "code",
     "collapsed": false,
     "input": [
      "# Define distance function\n",
      "def dist(tlist):\n",
      "    xname = tlist[0]\n",
      "    yname = tlist[1]\n",
      "    # Don't standardize since constant values\n",
      "    x = distDF[xname]#/(distDF[xname][0])\n",
      "    y = distDF[yname]#/(distDF[yname][0])\n",
      "    # Remove any na values\n",
      "    z = (x-y).dropna()\n",
      "    # Only consider pairs with most of the data present\n",
      "    # if len(z) > 495:\n",
      "    return([(xname, yname)], sum(map(lambda z:z**2, z)))\n",
      "    #else:\n",
      "    #    return()"
     ],
     "language": "python",
     "metadata": {},
     "outputs": [],
     "prompt_number": 3
    },
    {
     "cell_type": "code",
     "collapsed": false,
     "input": [
      "# Define distance test function\n",
      "def test_distFun():\n",
      "    if __name__ == '__main__':\n",
      "        trainDistPool = Pool(processes=4)\n",
      "        # Test just the first 100 pairs - remove [0:100] for full test - warning, takes a long time!!\n",
      "        trainDistResult = pd.DataFrame(trainDistPool.map(dist, pairList))\n",
      "        print trainDistResult[1][4]\n",
      "    trainDistPool.close()\n",
      "    assert trainDistResult[1][4] == 10*(5**4)"
     ],
     "language": "python",
     "metadata": {},
     "outputs": [],
     "prompt_number": 4
    },
    {
     "cell_type": "heading",
     "level": 3,
     "metadata": {},
     "source": [
      "Cointegration Test"
     ]
    },
    {
     "cell_type": "code",
     "collapsed": false,
     "input": [
      "## Successful test data\n",
      "\n",
      "#Use a standard normal distribution to generate one data set, then generate another using the standard normal data set and \n",
      "#add or subtracting any number between 0 and 1 to get two cointegrated data sets.\n",
      "\n",
      "normalrand = np.random.normal(0,1,100)        #normal(0,1)\n",
      "cointnorm = normalrand + np.random.uniform(-1,1,100)  #normal(0,1) + uniform(-1,1)"
     ],
     "language": "python",
     "metadata": {},
     "outputs": [],
     "prompt_number": 21
    },
    {
     "cell_type": "code",
     "collapsed": false,
     "input": [
      "## Fail test data\n",
      "#Example 1\n",
      "x = np.cumsum(np.random.normal(0,1, 1000))\n",
      "y = np.cumsum(np.random.normal(0,1, 1000))\n",
      "\n",
      "#Example 2\n",
      "x1 = np.cumsum(np.random.uniform(1000,10000,1000))\n",
      "y1 = np.cumsum(np.random.exponential(10,1000))"
     ],
     "language": "python",
     "metadata": {},
     "outputs": [],
     "prompt_number": 22
    },
    {
     "cell_type": "code",
     "collapsed": false,
     "input": [
      "# Define cointegration function\n",
      "def cointegration(y, x):\n",
      "        ctresult = stat.OLS(y, x).fit()\n",
      "        return(ts.adfuller(ctresult.resid))"
     ],
     "language": "python",
     "metadata": {},
     "outputs": [],
     "prompt_number": 23
    },
    {
     "cell_type": "code",
     "collapsed": false,
     "input": [
      "# Define cointegration test\n",
      "def test_cointFun():\n",
      "    assert cointegration(normalrand,cointnorm)[1] <= 0.05\n",
      "\n",
      "def test_cointFail():\n",
      "    assert cointegration(y,x)[1] >= 0.05\n",
      "\n",
      "def test_cointFail2():\n",
      "    assert cointegration(y1,x1)[1] >= 0.05"
     ],
     "language": "python",
     "metadata": {},
     "outputs": [],
     "prompt_number": 24
    },
    {
     "cell_type": "heading",
     "level": 3,
     "metadata": {},
     "source": [
      "Correlation Test"
     ]
    },
    {
     "cell_type": "code",
     "collapsed": false,
     "input": [
      "#For correlated data, use standard normal distribution so we can use the bivariate normal formula to generate two sets of\n",
      "#correlated data.\n",
      "\n",
      "rho = .5  #pick some correlation threshold\n",
      "\n",
      "xCorr = np.random.normal(0,1,100)\n",
      "yCorr = rho*xCorr + (1-rho**2)*np.random.normal(0,1,100)  #bivariate normal"
     ],
     "language": "python",
     "metadata": {},
     "outputs": [],
     "prompt_number": 9
    },
    {
     "cell_type": "code",
     "collapsed": false,
     "input": [
      "#define correlation function\n",
      "def correlate(tlist):\n",
      "    try:\n",
      "        xname = tlist[0]\n",
      "        yname = tlist[1]\n",
      "        x = xname #trainData[xname]\n",
      "        y = yname #trainData[yname]\n",
      "        #if min(x.count(), y.count()) > 490:\n",
      "        #corrs = x.corr(y)\n",
      "        corrs = np.corrcoef(x,y)[0,1]\n",
      "        return corrs\n",
      "        #else:\n",
      "        #    return()\n",
      "    except ValueError:\n",
      "        return()\n",
      "    except TypeError:\n",
      "        return()\n"
     ],
     "language": "python",
     "metadata": {},
     "outputs": [],
     "prompt_number": 10
    },
    {
     "cell_type": "code",
     "collapsed": false,
     "input": [
      "def test_corrFun():\n",
      "    assert abs(correlate([xCorr,yCorr])-rho) <= 0.2"
     ],
     "language": "python",
     "metadata": {},
     "outputs": [],
     "prompt_number": 11
    },
    {
     "cell_type": "heading",
     "level": 3,
     "metadata": {},
     "source": [
      "Execute Tests"
     ]
    },
    {
     "cell_type": "code",
     "collapsed": false,
     "input": [
      "%load_ext ipython_nose"
     ],
     "language": "python",
     "metadata": {},
     "outputs": [],
     "prompt_number": 12
    },
    {
     "cell_type": "code",
     "collapsed": false,
     "input": [
      "%nose -v"
     ],
     "language": "python",
     "metadata": {},
     "outputs": [
      {
       "html": [
        "<div id=\"ipython_nose_ae318f496d2d4f88a37d84e52c208de4\"></div>"
       ],
       "metadata": {},
       "output_type": "display_data"
      },
      {
       "javascript": [
        "document.ipython_nose_ae318f496d2d4f88a37d84e52c208de4 = $(\"#ipython_nose_ae318f496d2d4f88a37d84e52c208de4\");"
       ],
       "metadata": {},
       "output_type": "display_data"
      },
      {
       "javascript": [
        "document.ipython_nose_ae318f496d2d4f88a37d84e52c208de4.append($(\"<div>__main__.test_corrFun ... pass</div>\"));"
       ],
       "metadata": {},
       "output_type": "display_data"
      },
      {
       "javascript": [
        "document.ipython_nose_ae318f496d2d4f88a37d84e52c208de4.append($(\"<div>__main__.test_cointFun ... pass</div>\"));"
       ],
       "metadata": {},
       "output_type": "display_data"
      },
      {
       "javascript": [
        "document.ipython_nose_ae318f496d2d4f88a37d84e52c208de4.append($(\"<div>__main__.test_distFun ... pass</div>\"));"
       ],
       "metadata": {},
       "output_type": "display_data"
      },
      {
       "javascript": [
        "document.ipython_nose_ae318f496d2d4f88a37d84e52c208de4.append($(\"<div>__main__.test_cointFail ... pass</div>\"));"
       ],
       "metadata": {},
       "output_type": "display_data"
      },
      {
       "javascript": [
        "document.ipython_nose_ae318f496d2d4f88a37d84e52c208de4.append($(\"<div>__main__.test_cointFail2 ... pass</div>\"));"
       ],
       "metadata": {},
       "output_type": "display_data"
      },
      {
       "javascript": [
        "delete document.ipython_nose_ae318f496d2d4f88a37d84e52c208de4;"
       ],
       "metadata": {},
       "output_type": "display_data"
      },
      {
       "html": [
        "    <style type=\"text/css\">\n",
        "        span.nosefailedfunc {\n",
        "            font-family: monospace;\n",
        "            font-weight: bold;\n",
        "        }\n",
        "        div.noseresults {\n",
        "            width: 100%;\n",
        "        }\n",
        "        div.nosebar {\n",
        "            float: left;\n",
        "            padding: 1ex 0px 1ex 0px;\n",
        "        }\n",
        "        div.nosebar.fail {\n",
        "            background: #ff3019; /* Old browsers */\n",
        "            /* FF3.6+ */\n",
        "            background: -moz-linear-gradient(top, #ff3019 0%, #cf0404 100%);\n",
        "            /* Chrome,Safari4+ */\n",
        "            background: -webkit-gradient(linear, left top, left bottom,\n",
        "                                         color-stop(0%,#ff3019),\n",
        "                                         color-stop(100%,#cf0404));\n",
        "            /* Chrome10+,Safari5.1+ */\n",
        "            background: -webkit-linear-gradient(top, #ff3019 0%,#cf0404 100%);\n",
        "            /* Opera 11.10+ */\n",
        "            background: -o-linear-gradient(top, #ff3019 0%,#cf0404 100%);\n",
        "            /* IE10+ */\n",
        "            background: -ms-linear-gradient(top, #ff3019 0%,#cf0404 100%);\n",
        "            /* W3C */\n",
        "            background: linear-gradient(to bottom, #ff3019 0%,#cf0404 100%);\n",
        "        }\n",
        "        div.nosebar.pass {\n",
        "            background: #52b152;\n",
        "            background: -moz-linear-gradient(top, #52b152 1%, #008a00 100%);\n",
        "            background: -webkit-gradient(linear, left top, left bottom,\n",
        "                                         color-stop(1%,#52b152),\n",
        "                                         color-stop(100%,#008a00));\n",
        "            background: -webkit-linear-gradient(top, #52b152 1%,#008a00 100%);\n",
        "            background: -o-linear-gradient(top, #52b152 1%,#008a00 100%);\n",
        "            background: -ms-linear-gradient(top, #52b152 1%,#008a00 100%);\n",
        "            background: linear-gradient(to bottom, #52b152 1%,#008a00 100%);\n",
        "        }\n",
        "        div.nosebar.skip {\n",
        "            background: #f1e767;\n",
        "            background: -moz-linear-gradient(top, #f1e767 0%, #feb645 100%);\n",
        "            background: -webkit-gradient(linear, left top, left bottom,\n",
        "                                         color-stop(0%,#f1e767),\n",
        "                                         color-stop(100%,#feb645));\n",
        "            background: -webkit-linear-gradient(top, #f1e767 0%,#feb645 100%);\n",
        "            background: -o-linear-gradient(top, #f1e767 0%,#feb645 100%);\n",
        "            background: -ms-linear-gradient(top, #f1e767 0%,#feb645 100%);\n",
        "            background: linear-gradient(to bottom, #f1e767 0%,#feb645 100%);\n",
        "        }\n",
        "        div.nosebar.leftmost {\n",
        "            border-radius: 4px 0 0 4px;\n",
        "        }\n",
        "        div.nosebar.rightmost {\n",
        "            border-radius: 0 4px 4px 0;\n",
        "        }\n",
        "        div.nosefailbanner {\n",
        "            border-radius: 4px 0 0 4px;\n",
        "            border-left: 10px solid #cf0404;\n",
        "            padding: 0.5ex 0em 0.5ex 1em;\n",
        "            margin-top: 1ex;\n",
        "            margin-bottom: 0px;\n",
        "        }\n",
        "        div.nosefailbanner.expanded {\n",
        "            border-radius: 4px 4px 0 0;\n",
        "            border-top: 10px solid #cf0404;\n",
        "        }\n",
        "        pre.nosetraceback {\n",
        "            border-radius: 0 4px 4px 4px;\n",
        "            border-left: 10px solid #cf0404;\n",
        "            padding: 1em;\n",
        "            margin-left: 0px;\n",
        "            margin-top: 0px;\n",
        "            display: none;\n",
        "        }\n",
        "    </style>\n",
        "    \n",
        "    <script>\n",
        "        setTimeout(function () {\n",
        "            $('.nosefailtoggle').bind(\n",
        "                'click',\n",
        "                function () {\n",
        "                    $(\n",
        "                        $(this)\n",
        "                            .parent().toggleClass('expanded')\n",
        "                            .parent()\n",
        "                            .children()\n",
        "                            .filter('.nosetraceback')\n",
        "                    ).toggle();\n",
        "                }\n",
        "            );},\n",
        "            0);\n",
        "    </script>\n",
        "    \n",
        "    <div class=\"noseresults\">\n",
        "      <div class=\"nosebar fail leftmost\" style=\"width: 0%\">\n",
        "          &nbsp;\n",
        "      </div>\n",
        "      <div class=\"nosebar skip\" style=\"width: 0%\">\n",
        "          &nbsp;\n",
        "      </div>\n",
        "      <div class=\"nosebar pass rightmost\" style=\"width: 100%\">\n",
        "          &nbsp;\n",
        "      </div>\n",
        "      5/5 tests passed\n",
        "    </div>\n",
        "    "
       ],
       "metadata": {},
       "output_type": "pyout",
       "prompt_number": 25,
       "text": [
        "5/5 tests passed\n"
       ]
      }
     ],
     "prompt_number": 25
    },
    {
     "cell_type": "code",
     "collapsed": false,
     "input": [],
     "language": "python",
     "metadata": {},
     "outputs": []
    }
   ],
   "metadata": {}
  }
 ]
}