{
 "metadata": {
  "name": ""
 },
 "nbformat": 3,
 "nbformat_minor": 0,
 "worksheets": [
  {
   "cells": [
    {
     "cell_type": "code",
     "collapsed": false,
     "input": [
      "from multiprocessing import Pool\n",
      "SSD = dict()\n",
      "#Test just the first 100 pairs - remove [0:100] for full test\n",
      "\n",
      "def dist(tlist):\n",
      "    xname = tlist[0]\n",
      "    yname = tlist[1]\n",
      "    x = wrdsData.xs(xname, level='ticker').PRC\n",
      "    y = wrdsData.xs(yname, level='ticker').PRC\n",
      "    xStd = x/x[0]\n",
      "    yStd = y/y[0]\n",
      "    return([(xname, yname)], sum(map(lambda z:z**2, xStd-yStd)))\n",
      "\n",
      "if __name__ == '__main__':\n",
      "    pool = Pool(processes=4)\n",
      "    result = pd.DataFrame(pool.map(dist, tickerpairs[0:10]))\n",
      "    print result\n",
      "    \n",
      "\n",
      "\n",
      "\n",
      "\n",
      "#smallssd = sorted(result.items(), key=lambda x: x[1])[:5] #pick 5 smallest distance pairs from distance method\n",
      "#print dict(smallssd).keys()\n",
      "#print smallssd"
     ],
     "language": "python",
     "metadata": {},
     "outputs": []
    }
   ],
   "metadata": {}
  }
 ]
}