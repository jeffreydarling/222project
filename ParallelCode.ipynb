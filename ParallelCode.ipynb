{
 "metadata": {
  "name": ""
 },
 "nbformat": 3,
 "nbformat_minor": 0,
 "worksheets": [
  {
   "cells": [
    {
     "cell_type": "code",
     "collapsed": false,
     "input": [
      "# Parallel processing for sum-square-distance\n",
      "def dist(tlist):\n",
      "    xname = tlist[0]\n",
      "    yname = tlist[1]\n",
      "    x = wrdsData.xs(xname, level='ticker').PRC/(wrdsData.xs(xname, level='ticker').PRC[0])\n",
      "    y = wrdsData.xs(yname, level='ticker').PRC/(wrdsData.xs(yname, level='ticker').PRC[0])\n",
      "    return([(xname, yname)], sum(map(lambda z:z**2, x-y)))\n",
      "\n",
      "if __name__ == '__main__':\n",
      "    pool = Pool(processes=4)\n",
      "    #Test just the first 100 pairs - remove [0:100] for full test\n",
      "    result = pd.DataFrame(pool.map(dist, tickerpairs[0:1000]))\n",
      "\n",
      "\n",
      "smallssd = result.sort(columns = 1)[0:5]\n",
      "print smallssd"
     ],
     "language": "python",
     "metadata": {},
     "outputs": []
    },
    {
     "cell_type": "code",
     "collapsed": false,
     "input": [
      "# Parallel processing for cointegration test:\n",
      "def cointegration_test(y, x):\n",
      "    try:\n",
      "        result = stat.OLS(y, x).fit()\n",
      "        return ts.adfuller(result.resid)\n",
      "    except:\n",
      "        return()\n",
      "\n",
      "def coint(tlist):\n",
      "    xname = tlist[0]\n",
      "    yname = tlist[1]\n",
      "    x = wrdsData.xs(xname, level='ticker').PRC\n",
      "    y = wrdsData.xs(yname, level='ticker').PRC\n",
      "    xclean = x[x.notnull() & y.notnull()]\n",
      "    yclean = y[x.notnull() & y.notnull()]\n",
      "    xp = list(xclean)\n",
      "    yp = list(yclean)\n",
      "    try:\n",
      "        return([(xname, yname)], cointegration_test(xp,yp)[1]) #get the p-value of test for each pair\n",
      "    except ValueError, TypeError:\n",
      "        return()\n",
      "\n",
      "\n",
      "\n",
      "if __name__ == '__main__':\n",
      "    pool = Pool(processes=4)\n",
      "    #Test just the first 100 pairs - remove [0:100] for full test\n",
      "    cointResult = pool.map(coint, tickerpairs[0:1000])\n",
      "    print cointResult\n",
      "\n",
      "\n",
      "#smallCoint = cointResult.sort(columns = 1)[0:5]\n",
      "#print smallCoint"
     ],
     "language": "python",
     "metadata": {},
     "outputs": []
    }
   ],
   "metadata": {}
  }
 ]
}