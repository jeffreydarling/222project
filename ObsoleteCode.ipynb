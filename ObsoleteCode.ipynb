{
 "metadata": {
  "name": ""
 },
 "nbformat": 3,
 "nbformat_minor": 0,
 "worksheets": [
  {
   "cells": [
    {
     "cell_type": "heading",
     "level": 2,
     "metadata": {},
     "source": [
      "Obsolete Code"
     ]
    },
    {
     "cell_type": "code",
     "collapsed": false,
     "input": [
      "#nasdaq = pd.io.parsers.read_csv(\"http://www.nasdaq.com/screening/companies-by-industry.aspx?exchange=NASDAQ&render=download\")\n",
      "#nasdaq = nasdaq.sort(columns = \"Symbol\")\n",
      "#print nasdaq\n",
      "\n",
      "#symbols = nasdaq.Symbol[nasdaq['Symbol'].map(lambda x: len(x) < 5)]\n",
      "#print symbols\n",
      "\n",
      "#from pandas.io.data import DataReader\n",
      "#from datetime import datetime\n",
      "#aapl = DataReader(\"AAPL\",  \"google\", datetime(2011,1,1), datetime(2014,1,1))\n",
      "#goog = DataReader(\"GOOG\",  \"google\", datetime(2011,1,1), datetime(2014,1,1))\n",
      "#stocks = DataReader(symbols[0:10],  \"yahoo\", datetime(2011,1,1), datetime(2014,1,1))\n",
      "#print stocks\n",
      "\n",
      "#stocks.to_pickle(\"stockdirty.pkl\")\n",
      "\n",
      "#stocktest = pd.read_pickle(\"stockdirty.pkl\")\n",
      "#print stocktest #yay, we have a storage solution\n",
      "\n",
      "#stockDF = stocks.to_frame()\n",
      "#stockDF.head()\n",
      "#stockBack = stockDF.to_panel()\n",
      "#print stockBack #OK good, we're back to our original panel format\n",
      "\n",
      "#print stockDF\n",
      "#stockDF.to_json(path_or_buf=\"~/stockfile.json\", orient=\"index\") #panels and MultiIndex data frame export to JSON still not supported.. \n",
      "\n",
      "#avg = pd.concat([goog.Close, aapl.Close], axis = 1, join = \"inner\", keys=['GOOG','AAPL'])\n",
      "#x = np.array(avg.AAPL)\n",
      "#y = np.array(avg.GOOG)\n",
      "#X = sm.add_constant(x, prepend=True)\n",
      "#results = sm.OLS(y,X).fit()\n",
      "#print results.summary()\n",
      "\n",
      "#print(np.mean(results.resid**2))\n",
      "\n"
     ],
     "language": "python",
     "metadata": {},
     "outputs": []
    },
    {
     "cell_type": "code",
     "collapsed": false,
     "input": [
      "# Series processing - please use parallel code below\n",
      "#SSD = dict()\n",
      "#Test just the first 100 pairs - remove [0:100] for full test\n",
      "#for a, b in tickerpairs[0:100]:\n",
      "#    stockprice = wrdsData.xs(a, level='ticker').PRC\n",
      "#    normprice = stockprice/stockprice[0]\n",
      "#    stockprice2 = wrdsData.xs(b, level='ticker').PRC\n",
      "#    normprice2 = stockprice2/stockprice2[0]\n",
      "#    SSD[(a,b)] = sum([(normprice[k] - normprice2[k])**2 for k in range(min(len(normprice),len(normprice2)))])\n",
      "#\n",
      "#\n",
      "#smallssd = sorted(SSD.items(), key=lambda x: x[1])[:5] #pick 5 smallest distance pairs from distance method\n",
      "#print dict(smallssd).keys()\n",
      "#print smallssd"
     ],
     "language": "python",
     "metadata": {},
     "outputs": []
    },
    {
     "cell_type": "code",
     "collapsed": false,
     "input": [
      "#def cointegration_test(y, x):\n",
      "#    result = stat.OLS(y, x).fit()    \n",
      "#    return ts.adfuller(result.resid)\n",
      "#\n",
      "#\n",
      "#CoIntegrate = dict()\n",
      "#\n",
      "#Test just the first 100 pairs - remove [0:100] for full test\n",
      "#for a, b in tickerpairs[350:360]:\n",
      "#    stockdirty = wrdsData.xs(a, level='ticker').PRC\n",
      "#    stockdirty2 = wrdsData.xs(b, level='ticker').PRC\n",
      "#    stockclean = stockdirty[stockdirty.notnull() & stockdirty2.notnull()]\n",
      "#    stockclean2 = stockdirty2[stockdirty.notnull() & stockdirty2.notnull()]  \n",
      "#    stockprice = list(stockclean)\n",
      "#    stockprice2 = list(stockclean2)\n",
      "#    try:\n",
      "#        CoIntegrate[(a,b)] = cointegration_test(stockprice,stockprice2)[1] #get the p-value of test for each pair\n",
      "#    except ValueError:\n",
      "#        print(\"Failed pair: \" + a + \", \" + b)\n",
      "#        continue\n",
      "#    except TypeError:\n",
      "#        print(\"Unknown error: \" + a + \", \" + b)\n",
      "#        continue\n",
      "#    \n",
      "#    \n",
      "#pairsoptim = [CoIntegrate.keys()[i] for i in range(len(CoIntegrate)) if CoIntegrate.values()[i] < 0.05/len(CoIntegrate)] \n",
      "#print pairsoptim"
     ],
     "language": "python",
     "metadata": {},
     "outputs": []
    }
   ],
   "metadata": {}
  }
 ]
}