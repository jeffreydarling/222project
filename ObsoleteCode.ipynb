{
 "metadata": {
  "name": "ObsoleteCode"
 },
 "nbformat": 3,
 "nbformat_minor": 0,
 "worksheets": [
  {
   "cells": [
    {
     "cell_type": "heading",
     "level": 2,
     "metadata": {},
     "source": [
      "Obsolete Code"
     ]
    },
    {
     "cell_type": "code",
     "collapsed": false,
     "input": [
      "#nasdaq = pd.io.parsers.read_csv(\"http://www.nasdaq.com/screening/companies-by-industry.aspx?exchange=NASDAQ&render=download\")\n",
      "#nasdaq = nasdaq.sort(columns = \"Symbol\")\n",
      "#print nasdaq\n",
      "\n",
      "#symbols = nasdaq.Symbol[nasdaq['Symbol'].map(lambda x: len(x) < 5)]\n",
      "#print symbols\n",
      "\n",
      "#from pandas.io.data import DataReader\n",
      "#from datetime import datetime\n",
      "#aapl = DataReader(\"AAPL\",  \"google\", datetime(2011,1,1), datetime(2014,1,1))\n",
      "#goog = DataReader(\"GOOG\",  \"google\", datetime(2011,1,1), datetime(2014,1,1))\n",
      "#stocks = DataReader(symbols[0:10],  \"yahoo\", datetime(2011,1,1), datetime(2014,1,1))\n",
      "#print stocks\n",
      "\n",
      "#stocks.to_pickle(\"stockdirty.pkl\")\n",
      "\n",
      "#stocktest = pd.read_pickle(\"stockdirty.pkl\")\n",
      "#print stocktest #yay, we have a storage solution\n",
      "\n",
      "#stockDF = stocks.to_frame()\n",
      "#stockDF.head()\n",
      "#stockBack = stockDF.to_panel()\n",
      "#print stockBack #OK good, we're back to our original panel format\n",
      "\n",
      "#print stockDF\n",
      "#stockDF.to_json(path_or_buf=\"~/stockfile.json\", orient=\"index\") #panels and MultiIndex data frame export to JSON still not supported.. \n",
      "\n",
      "#avg = pd.concat([goog.Close, aapl.Close], axis = 1, join = \"inner\", keys=['GOOG','AAPL'])\n",
      "#x = np.array(avg.AAPL)\n",
      "#y = np.array(avg.GOOG)\n",
      "#X = sm.add_constant(x, prepend=True)\n",
      "#results = sm.OLS(y,X).fit()\n",
      "#print results.summary()\n",
      "\n",
      "#print(np.mean(results.resid**2))\n",
      "\n"
     ],
     "language": "python",
     "metadata": {},
     "outputs": []
    }
   ],
   "metadata": {}
  }
 ]
}