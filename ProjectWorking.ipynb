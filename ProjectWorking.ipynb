{
 "metadata": {
  "name": "ProjectWorking"
 },
 "nbformat": 3,
 "nbformat_minor": 0,
 "worksheets": [
  {
   "cells": [
    {
     "cell_type": "heading",
     "level": 1,
     "metadata": {},
     "source": [
      "Stat222 Capstone Project - Pairs Trading"
     ]
    },
    {
     "cell_type": "code",
     "collapsed": false,
     "input": [
      "import pandas as pd\n",
      "import scipy.stats as stats\n",
      "import numpy as np\n",
      "import matplotlib.pyplot as plt\n",
      "import statsmodels.api as sm"
     ],
     "language": "python",
     "metadata": {},
     "outputs": [],
     "prompt_number": 1
    },
    {
     "cell_type": "heading",
     "level": 4,
     "metadata": {},
     "source": [
      "Download stock prices from yahoo finance automatically"
     ]
    },
    {
     "cell_type": "code",
     "collapsed": false,
     "input": [
      "#nasdaq = pd.io.parsers.read_csv(\"http://www.nasdaq.com/screening/companies-by-industry.aspx?exchange=NASDAQ&render=download\")\n",
      "#nasdaq = nasdaq.sort(columns = \"Symbol\")\n",
      "#print nasdaq"
     ],
     "language": "python",
     "metadata": {},
     "outputs": [],
     "prompt_number": 85
    },
    {
     "cell_type": "code",
     "collapsed": false,
     "input": [
      "#symbols = nasdaq.Symbol[nasdaq['Symbol'].map(lambda x: len(x) < 5)]\n",
      "#print symbols"
     ],
     "language": "python",
     "metadata": {},
     "outputs": [],
     "prompt_number": 86
    },
    {
     "cell_type": "code",
     "collapsed": false,
     "input": [
      "#from pandas.io.data import DataReader\n",
      "#from datetime import datetime\n",
      "#aapl = DataReader(\"AAPL\",  \"google\", datetime(2011,1,1), datetime(2014,1,1))\n",
      "#goog = DataReader(\"GOOG\",  \"google\", datetime(2011,1,1), datetime(2014,1,1))\n",
      "#stocks = DataReader(symbols[0:10],  \"yahoo\", datetime(2011,1,1), datetime(2014,1,1))\n",
      "#print stocks"
     ],
     "language": "python",
     "metadata": {},
     "outputs": [],
     "prompt_number": 87
    },
    {
     "cell_type": "code",
     "collapsed": false,
     "input": [
      "#stocks.to_pickle(\"stockdirty.pkl\")"
     ],
     "language": "python",
     "metadata": {},
     "outputs": [],
     "prompt_number": 88
    },
    {
     "cell_type": "code",
     "collapsed": false,
     "input": [
      "#stocktest = pd.read_pickle(\"stockdirty.pkl\")\n",
      "#print stocktest #yay, we have a storage solution"
     ],
     "language": "python",
     "metadata": {},
     "outputs": [],
     "prompt_number": 89
    },
    {
     "cell_type": "code",
     "collapsed": false,
     "input": [
      "#stockDF = stocks.to_frame()\n",
      "#stockDF.head()\n",
      "#stockBack = stockDF.to_panel()\n",
      "#print stockBack #OK good, we're back to our original panel format"
     ],
     "language": "python",
     "metadata": {},
     "outputs": [],
     "prompt_number": 90
    },
    {
     "cell_type": "code",
     "collapsed": false,
     "input": [
      "#print stockDF\n",
      "#stockDF.to_json(path_or_buf=\"~/stockfile.json\", orient=\"index\") #panels and MultiIndex data frame export to JSON still not supported.. "
     ],
     "language": "python",
     "metadata": {},
     "outputs": [],
     "prompt_number": 8
    },
    {
     "cell_type": "code",
     "collapsed": false,
     "input": [
      "#avg = pd.concat([goog.Close, aapl.Close], axis = 1, join = \"inner\", keys=['GOOG','AAPL'])\n",
      "#x = np.array(avg.AAPL)\n",
      "#y = np.array(avg.GOOG)\n",
      "#X = sm.add_constant(x, prepend=True)\n",
      "#results = sm.OLS(y,X).fit()\n",
      "#print results.summary()"
     ],
     "language": "python",
     "metadata": {},
     "outputs": [],
     "prompt_number": 91
    },
    {
     "cell_type": "code",
     "collapsed": false,
     "input": [
      "#print(np.mean(results.resid**2))"
     ],
     "language": "python",
     "metadata": {},
     "outputs": [],
     "prompt_number": 92
    },
    {
     "cell_type": "heading",
     "level": 2,
     "metadata": {},
     "source": [
      "Using manually downloaded WRDS (Wharton) data"
     ]
    },
    {
     "cell_type": "code",
     "collapsed": false,
     "input": [
      "# Unzip and import sorted stock data - currently using test file to manage load times\n",
      "!gunzip -c testdata.csv.gz | head -n1 > testsort.csv\n",
      "!gunzip -c testdata.csv.gz | tail -n +2 | sort -t, -k2,2 >> testsort.csv\n",
      "wrdsData = pd.io.parsers.read_csv(\"testsort.csv\", sep = \",\", index_col=[0,1], parse_dates=0, usecols = [1,2,3])"
     ],
     "language": "python",
     "metadata": {},
     "outputs": [
      {
       "output_type": "stream",
       "stream": "stdout",
       "text": [
        "\r\n",
        "gzip: stdout: Broken pipe\r\n"
       ]
      }
     ],
     "prompt_number": 77
    },
    {
     "cell_type": "code",
     "collapsed": false,
     "input": [
      "# Known issue with usecols is wrong index names\n",
      "wrdsData.index.names = ['date', 'ticker']\n",
      "wrdsData.head()"
     ],
     "language": "python",
     "metadata": {},
     "outputs": [
      {
       "html": [
        "<div style=\"max-height:1000px;max-width:1500px;overflow:auto;\">\n",
        "<table border=\"1\" class=\"dataframe\">\n",
        "  <thead>\n",
        "    <tr style=\"text-align: right;\">\n",
        "      <th></th>\n",
        "      <th></th>\n",
        "      <th>PRC</th>\n",
        "    </tr>\n",
        "    <tr>\n",
        "      <th>date</th>\n",
        "      <th>ticker</th>\n",
        "      <th></th>\n",
        "    </tr>\n",
        "  </thead>\n",
        "  <tbody>\n",
        "    <tr>\n",
        "      <th rowspan=\"5\" valign=\"top\">2011-01-03</th>\n",
        "      <th>AEPI</th>\n",
        "      <td> 26.510</td>\n",
        "    </tr>\n",
        "    <tr>\n",
        "      <th>JJSF</th>\n",
        "      <td> 49.440</td>\n",
        "    </tr>\n",
        "    <tr>\n",
        "      <th>PLXS</th>\n",
        "      <td> 31.770</td>\n",
        "    </tr>\n",
        "    <tr>\n",
        "      <th>RMCF</th>\n",
        "      <td>  9.861</td>\n",
        "    </tr>\n",
        "    <tr>\n",
        "      <th>MSFT</th>\n",
        "      <td> 27.980</td>\n",
        "    </tr>\n",
        "  </tbody>\n",
        "</table>\n",
        "</div>"
       ],
       "output_type": "pyout",
       "prompt_number": 79,
       "text": [
        "                      PRC\n",
        "date       ticker        \n",
        "2011-01-03 AEPI    26.510\n",
        "           JJSF    49.440\n",
        "           PLXS    31.770\n",
        "           RMCF     9.861\n",
        "           MSFT    27.980"
       ]
      }
     ],
     "prompt_number": 79
    },
    {
     "cell_type": "code",
     "collapsed": false,
     "input": [
      "# Test selection of prices by ticker symbol\n",
      "wrdsData.xs('AEPI', level='ticker').head()"
     ],
     "language": "python",
     "metadata": {},
     "outputs": [
      {
       "html": [
        "<div style=\"max-height:1000px;max-width:1500px;overflow:auto;\">\n",
        "<table border=\"1\" class=\"dataframe\">\n",
        "  <thead>\n",
        "    <tr style=\"text-align: right;\">\n",
        "      <th></th>\n",
        "      <th>PRC</th>\n",
        "    </tr>\n",
        "    <tr>\n",
        "      <th>date</th>\n",
        "      <th></th>\n",
        "    </tr>\n",
        "  </thead>\n",
        "  <tbody>\n",
        "    <tr>\n",
        "      <th>2011-01-03</th>\n",
        "      <td> 26.51</td>\n",
        "    </tr>\n",
        "    <tr>\n",
        "      <th>2011-01-04</th>\n",
        "      <td> 26.56</td>\n",
        "    </tr>\n",
        "    <tr>\n",
        "      <th>2011-01-05</th>\n",
        "      <td> 26.86</td>\n",
        "    </tr>\n",
        "    <tr>\n",
        "      <th>2011-01-06</th>\n",
        "      <td> 26.86</td>\n",
        "    </tr>\n",
        "    <tr>\n",
        "      <th>2011-01-07</th>\n",
        "      <td> 26.36</td>\n",
        "    </tr>\n",
        "  </tbody>\n",
        "</table>\n",
        "</div>"
       ],
       "output_type": "pyout",
       "prompt_number": 81,
       "text": [
        "              PRC\n",
        "date             \n",
        "2011-01-03  26.51\n",
        "2011-01-04  26.56\n",
        "2011-01-05  26.86\n",
        "2011-01-06  26.86\n",
        "2011-01-07  26.36"
       ]
      }
     ],
     "prompt_number": 81
    },
    {
     "cell_type": "code",
     "collapsed": false,
     "input": [],
     "language": "python",
     "metadata": {},
     "outputs": [],
     "prompt_number": 84
    },
    {
     "cell_type": "code",
     "collapsed": false,
     "input": [],
     "language": "python",
     "metadata": {},
     "outputs": [],
     "prompt_number": 84
    },
    {
     "cell_type": "code",
     "collapsed": false,
     "input": [],
     "language": "python",
     "metadata": {},
     "outputs": [],
     "prompt_number": 83
    },
    {
     "cell_type": "code",
     "collapsed": false,
     "input": [],
     "language": "python",
     "metadata": {},
     "outputs": [],
     "prompt_number": 83
    },
    {
     "cell_type": "code",
     "collapsed": false,
     "input": [],
     "language": "python",
     "metadata": {},
     "outputs": [],
     "prompt_number": 83
    },
    {
     "cell_type": "code",
     "collapsed": false,
     "input": [],
     "language": "python",
     "metadata": {},
     "outputs": [],
     "prompt_number": 83
    },
    {
     "cell_type": "code",
     "collapsed": false,
     "input": [],
     "language": "python",
     "metadata": {},
     "outputs": [],
     "prompt_number": 58
    },
    {
     "cell_type": "code",
     "collapsed": false,
     "input": [],
     "language": "python",
     "metadata": {},
     "outputs": [],
     "prompt_number": 83
    },
    {
     "cell_type": "code",
     "collapsed": false,
     "input": [],
     "language": "python",
     "metadata": {},
     "outputs": []
    }
   ],
   "metadata": {}
  }
 ]
}