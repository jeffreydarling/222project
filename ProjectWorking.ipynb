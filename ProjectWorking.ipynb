{
 "metadata": {
  "name": "ProjectWorking"
 },
 "nbformat": 3,
 "nbformat_minor": 0,
 "worksheets": [
  {
   "cells": [
    {
     "cell_type": "heading",
     "level": 3,
     "metadata": {},
     "source": [
      "Download NASDAQ company list to dataframe"
     ]
    },
    {
     "cell_type": "code",
     "collapsed": false,
     "input": [
      "import pandas as pd\n",
      "import scipy.stats as stats\n",
      "import numpy as np\n",
      "import matplotlib.pyplot as plt\n",
      "import statsmodels.api as sm"
     ],
     "language": "python",
     "metadata": {},
     "outputs": [],
     "prompt_number": 1
    },
    {
     "cell_type": "code",
     "collapsed": false,
     "input": [
      "nasdaq = pd.io.parsers.read_csv(\"http://www.nasdaq.com/screening/companies-by-industry.aspx?exchange=NASDAQ&render=download\")\n",
      "nasdaq = nasdaq.sort(columns = \"Symbol\")\n",
      "print nasdaq"
     ],
     "language": "python",
     "metadata": {},
     "outputs": [
      {
       "output_type": "stream",
       "stream": "stdout",
       "text": [
        "<class 'pandas.core.frame.DataFrame'>\n",
        "Int64Index: 2789 entries, 1337 to 2786\n",
        "Data columns (total 10 columns):\n",
        "Symbol           2789  non-null values\n",
        "Name             2789  non-null values\n",
        "LastSale         2789  non-null values\n",
        "MarketCap        2789  non-null values\n",
        "ADR TSO          2789  non-null values\n",
        "IPOyear          2789  non-null values\n",
        "Sector           2789  non-null values\n",
        "Industry         2789  non-null values\n",
        "Summary Quote    2789  non-null values\n",
        "Unnamed: 9       0  non-null values\n",
        "dtypes: float64(2), object(8)\n"
       ]
      }
     ],
     "prompt_number": 2
    },
    {
     "cell_type": "code",
     "collapsed": false,
     "input": [
      "symbols = nasdaq.Symbol[nasdaq['Symbol'].map(lambda x: len(x) < 5)]\n",
      "print symbols"
     ],
     "language": "python",
     "metadata": {},
     "outputs": [
      {
       "output_type": "stream",
       "stream": "stdout",
       "text": [
        "1337    AAIT\n",
        "116      AAL\n",
        "225     AAME\n",
        "173     AAOI\n",
        "10      AAON\n",
        "169     AAPL\n",
        "229     AAWW\n",
        "1335    AAXJ\n",
        "12      ABAX\n",
        "139     ABCB\n",
        "396     ABCD\n",
        "2434    ABCO\n",
        "192     ABFS\n",
        "13      ABGB\n",
        "181     ABIO\n",
        "...\n",
        "2787    ZIGO\n",
        "1199    ZINC\n",
        "2776    ZION\n",
        "2779    ZIOP\n",
        "2780    ZIPR\n",
        "656      ZIV\n",
        "2781    ZIXI\n",
        "2769    ZLCS\n",
        "2772    ZLTQ\n",
        "2775      ZN\n",
        "2788    ZNGA\n",
        "2783    ZOLT\n",
        "2784    ZOOM\n",
        "2785      ZU\n",
        "2786    ZUMZ\n",
        "Name: Symbol, Length: 2596, dtype: object\n"
       ]
      }
     ],
     "prompt_number": 3
    },
    {
     "cell_type": "heading",
     "level": 3,
     "metadata": {},
     "source": [
      "Download stock prices from yahoo finance automatically"
     ]
    },
    {
     "cell_type": "code",
     "collapsed": false,
     "input": [
      "from pandas.io.data import DataReader\n",
      "from datetime import datetime\n",
      "aapl = DataReader(\"AAPL\",  \"google\", datetime(2011,1,1), datetime(2014,1,1))\n",
      "goog = DataReader(\"GOOG\",  \"google\", datetime(2011,1,1), datetime(2014,1,1))\n",
      "stocks = DataReader(symbols[0:10],  \"yahoo\", datetime(2011,1,1), datetime(2014,1,1))\n",
      "print stocks"
     ],
     "language": "python",
     "metadata": {},
     "outputs": [
      {
       "output_type": "stream",
       "stream": "stdout",
       "text": [
        "<class 'pandas.core.panel.Panel'>\n",
        "Dimensions: 6 (items) x 754 (major_axis) x 10 (minor_axis)\n",
        "Items axis: Open to Adj Close\n",
        "Major_axis axis: 2011-01-03 00:00:00 to 2013-12-31 00:00:00\n",
        "Minor_axis axis: AAIT to ABCB\n"
       ]
      }
     ],
     "prompt_number": 4
    },
    {
     "cell_type": "code",
     "collapsed": false,
     "input": [
      "stocks.to_pickle(\"stockdirty.pkl\")"
     ],
     "language": "python",
     "metadata": {},
     "outputs": [],
     "prompt_number": 5
    },
    {
     "cell_type": "code",
     "collapsed": false,
     "input": [
      "stocktest = pd.read_pickle(\"stockdirty.pkl\")\n",
      "print stocktest #yay, we have a storage solution"
     ],
     "language": "python",
     "metadata": {},
     "outputs": [
      {
       "output_type": "stream",
       "stream": "stdout",
       "text": [
        "<class 'pandas.core.panel.Panel'>\n",
        "Dimensions: 6 (items) x 754 (major_axis) x 10 (minor_axis)\n",
        "Items axis: Open to Adj Close\n",
        "Major_axis axis: 2011-01-03 00:00:00 to 2013-12-31 00:00:00\n",
        "Minor_axis axis: AAIT to ABCB\n"
       ]
      }
     ],
     "prompt_number": 6
    },
    {
     "cell_type": "code",
     "collapsed": false,
     "input": [
      "stockDF = stocks.to_frame()\n",
      "stockDF.head()\n",
      "#stockBack = stockDF.to_panel()\n",
      "#print stockBack #OK good, we're back to our original panel format"
     ],
     "language": "python",
     "metadata": {},
     "outputs": [
      {
       "html": [
        "<div style=\"max-height:1000px;max-width:1500px;overflow:auto;\">\n",
        "<table border=\"1\" class=\"dataframe\">\n",
        "  <thead>\n",
        "    <tr style=\"text-align: right;\">\n",
        "      <th></th>\n",
        "      <th></th>\n",
        "      <th>Open</th>\n",
        "      <th>High</th>\n",
        "      <th>Low</th>\n",
        "      <th>Close</th>\n",
        "      <th>Volume</th>\n",
        "      <th>Adj Close</th>\n",
        "    </tr>\n",
        "    <tr>\n",
        "      <th>Date</th>\n",
        "      <th>minor</th>\n",
        "      <th></th>\n",
        "      <th></th>\n",
        "      <th></th>\n",
        "      <th></th>\n",
        "      <th></th>\n",
        "      <th></th>\n",
        "    </tr>\n",
        "  </thead>\n",
        "  <tbody>\n",
        "    <tr>\n",
        "      <th rowspan=\"5\" valign=\"top\">2011-01-03</th>\n",
        "      <th>AAL</th>\n",
        "      <td>  10.11</td>\n",
        "      <td>  10.71</td>\n",
        "      <td>  10.08</td>\n",
        "      <td>  10.65</td>\n",
        "      <td>  7465800</td>\n",
        "      <td>  10.65</td>\n",
        "    </tr>\n",
        "    <tr>\n",
        "      <th>AAME</th>\n",
        "      <td>   2.06</td>\n",
        "      <td>   2.06</td>\n",
        "      <td>   2.06</td>\n",
        "      <td>   2.06</td>\n",
        "      <td>     1400</td>\n",
        "      <td>   1.98</td>\n",
        "    </tr>\n",
        "    <tr>\n",
        "      <th>AAON</th>\n",
        "      <td>  28.56</td>\n",
        "      <td>  29.08</td>\n",
        "      <td>  28.52</td>\n",
        "      <td>  29.01</td>\n",
        "      <td>   231900</td>\n",
        "      <td>  12.44</td>\n",
        "    </tr>\n",
        "    <tr>\n",
        "      <th>AAPL</th>\n",
        "      <td> 325.64</td>\n",
        "      <td> 330.26</td>\n",
        "      <td> 324.84</td>\n",
        "      <td> 329.57</td>\n",
        "      <td> 15897800</td>\n",
        "      <td> 316.77</td>\n",
        "    </tr>\n",
        "    <tr>\n",
        "      <th>AAWW</th>\n",
        "      <td>  56.42</td>\n",
        "      <td>  57.09</td>\n",
        "      <td>  55.79</td>\n",
        "      <td>  55.86</td>\n",
        "      <td>   250500</td>\n",
        "      <td>  55.86</td>\n",
        "    </tr>\n",
        "  </tbody>\n",
        "</table>\n",
        "</div>"
       ],
       "output_type": "pyout",
       "prompt_number": 52,
       "text": [
        "                    Open    High     Low   Close    Volume  Adj Close\n",
        "Date       minor                                                     \n",
        "2011-01-03 AAL     10.11   10.71   10.08   10.65   7465800      10.65\n",
        "           AAME     2.06    2.06    2.06    2.06      1400       1.98\n",
        "           AAON    28.56   29.08   28.52   29.01    231900      12.44\n",
        "           AAPL   325.64  330.26  324.84  329.57  15897800     316.77\n",
        "           AAWW    56.42   57.09   55.79   55.86    250500      55.86"
       ]
      }
     ],
     "prompt_number": 52
    },
    {
     "cell_type": "code",
     "collapsed": false,
     "input": [
      "#print stockDF\n",
      "#stockDF.to_json(path_or_buf=\"~/stockfile.json\", orient=\"index\") #panels and MultiIndex data frame export to JSON still not supported.. "
     ],
     "language": "python",
     "metadata": {},
     "outputs": [],
     "prompt_number": 8
    },
    {
     "cell_type": "code",
     "collapsed": false,
     "input": [
      "avg = pd.concat([goog.Close, aapl.Close], axis = 1, join = \"inner\", keys=['GOOG','AAPL'])\n",
      "x = np.array(avg.AAPL)\n",
      "y = np.array(avg.GOOG)\n",
      "X = sm.add_constant(x, prepend=True)\n",
      "results = sm.OLS(y,X).fit()\n",
      "print results.summary()"
     ],
     "language": "python",
     "metadata": {},
     "outputs": [
      {
       "output_type": "stream",
       "stream": "stdout",
       "text": [
        "                            OLS Regression Results                            \n",
        "==============================================================================\n",
        "Dep. Variable:                      y   R-squared:                       0.080\n",
        "Model:                            OLS   Adj. R-squared:                  0.079\n",
        "Method:                 Least Squares   F-statistic:                     65.83\n",
        "Date:                Wed, 26 Feb 2014   Prob (F-statistic):           2.00e-15\n",
        "Time:                        10:46:03   Log-Likelihood:                -4823.7\n",
        "No. Observations:                 754   AIC:                             9651.\n",
        "Df Residuals:                     752   BIC:                             9661.\n",
        "Df Model:                           1                                         \n",
        "==============================================================================\n",
        "                 coef    std err          t      P>|t|      [95.0% Conf. Int.]\n",
        "------------------------------------------------------------------------------\n",
        "const        495.1571     25.655     19.301      0.000       444.793   545.521\n",
        "x1             0.4328      0.053      8.114      0.000         0.328     0.537\n",
        "==============================================================================\n",
        "Omnibus:                       84.864   Durbin-Watson:                   0.005\n",
        "Prob(Omnibus):                  0.000   Jarque-Bera (JB):              102.599\n",
        "Skew:                           0.874   Prob(JB):                     5.26e-23\n",
        "Kurtosis:                       2.545   Cond. No.                     2.33e+03\n",
        "==============================================================================\n",
        "\n",
        "Warnings:\n",
        "[1] The condition number is large, 2.33e+03. This might indicate that there are\n",
        "strong multicollinearity or other numerical problems.\n"
       ]
      }
     ],
     "prompt_number": 9
    },
    {
     "cell_type": "code",
     "collapsed": false,
     "input": [
      "print(np.mean(results.resid**2))"
     ],
     "language": "python",
     "metadata": {},
     "outputs": [
      {
       "output_type": "stream",
       "stream": "stdout",
       "text": [
        "21099.1430084\n"
       ]
      }
     ],
     "prompt_number": 10
    },
    {
     "cell_type": "heading",
     "level": 4,
     "metadata": {},
     "source": [
      "Using manually downloaded WRDS (Wharton) data"
     ]
    },
    {
     "cell_type": "code",
     "collapsed": false,
     "input": [
      "wrdsData = pd.io.parsers.read_csv(\"eee791a83179ef85.csv.gz\", sep = \",\", compression =  \"gzip\", index_col=[1,2], parse_dates=1, tupleize_cols = True)\n",
      "wrdsData.head()"
     ],
     "language": "python",
     "metadata": {},
     "outputs": [
      {
       "html": [
        "<div style=\"max-height:1000px;max-width:1500px;overflow:auto;\">\n",
        "<table border=\"1\" class=\"dataframe\">\n",
        "  <thead>\n",
        "    <tr style=\"text-align: right;\">\n",
        "      <th></th>\n",
        "      <th></th>\n",
        "      <th>PERMNO</th>\n",
        "      <th>COMNAM</th>\n",
        "      <th>PRIMEXCH</th>\n",
        "      <th>PRC</th>\n",
        "      <th>VOL</th>\n",
        "      <th>NUMTRD</th>\n",
        "    </tr>\n",
        "    <tr>\n",
        "      <th>date</th>\n",
        "      <th>TICKER</th>\n",
        "      <th></th>\n",
        "      <th></th>\n",
        "      <th></th>\n",
        "      <th></th>\n",
        "      <th></th>\n",
        "      <th></th>\n",
        "    </tr>\n",
        "  </thead>\n",
        "  <tbody>\n",
        "    <tr>\n",
        "      <th>2011-01-03</th>\n",
        "      <th>AEPI</th>\n",
        "      <td> 10025</td>\n",
        "      <td> A E P INDUSTRIES INC</td>\n",
        "      <td> Q</td>\n",
        "      <td> 26.51</td>\n",
        "      <td> 11148</td>\n",
        "      <td> 114</td>\n",
        "    </tr>\n",
        "    <tr>\n",
        "      <th>2011-01-04</th>\n",
        "      <th>AEPI</th>\n",
        "      <td> 10025</td>\n",
        "      <td> A E P INDUSTRIES INC</td>\n",
        "      <td> Q</td>\n",
        "      <td> 26.56</td>\n",
        "      <td>  7288</td>\n",
        "      <td>  82</td>\n",
        "    </tr>\n",
        "    <tr>\n",
        "      <th>2011-01-05</th>\n",
        "      <th>AEPI</th>\n",
        "      <td> 10025</td>\n",
        "      <td> A E P INDUSTRIES INC</td>\n",
        "      <td> Q</td>\n",
        "      <td> 26.86</td>\n",
        "      <td>  6460</td>\n",
        "      <td>  78</td>\n",
        "    </tr>\n",
        "    <tr>\n",
        "      <th>2011-01-06</th>\n",
        "      <th>AEPI</th>\n",
        "      <td> 10025</td>\n",
        "      <td> A E P INDUSTRIES INC</td>\n",
        "      <td> Q</td>\n",
        "      <td> 26.86</td>\n",
        "      <td>  7923</td>\n",
        "      <td>  75</td>\n",
        "    </tr>\n",
        "    <tr>\n",
        "      <th>2011-01-07</th>\n",
        "      <th>AEPI</th>\n",
        "      <td> 10025</td>\n",
        "      <td> A E P INDUSTRIES INC</td>\n",
        "      <td> Q</td>\n",
        "      <td> 26.36</td>\n",
        "      <td>  6325</td>\n",
        "      <td>  78</td>\n",
        "    </tr>\n",
        "  </tbody>\n",
        "</table>\n",
        "</div>"
       ],
       "output_type": "pyout",
       "prompt_number": 56,
       "text": [
        "                   PERMNO                COMNAM PRIMEXCH    PRC    VOL  NUMTRD\n",
        "date       TICKER                                                             \n",
        "2011-01-03 AEPI     10025  A E P INDUSTRIES INC        Q  26.51  11148     114\n",
        "2011-01-04 AEPI     10025  A E P INDUSTRIES INC        Q  26.56   7288      82\n",
        "2011-01-05 AEPI     10025  A E P INDUSTRIES INC        Q  26.86   6460      78\n",
        "2011-01-06 AEPI     10025  A E P INDUSTRIES INC        Q  26.86   7923      75\n",
        "2011-01-07 AEPI     10025  A E P INDUSTRIES INC        Q  26.36   6325      78"
       ]
      }
     ],
     "prompt_number": 56
    },
    {
     "cell_type": "code",
     "collapsed": false,
     "input": [
      "#wrdsData.reset_index().pivot('date', 'TICKER')\n",
      "#wrdsData.head()\n",
      "#wrdsPanel = wrdsData.to_panel()"
     ],
     "language": "python",
     "metadata": {},
     "outputs": [],
     "prompt_number": 58
    },
    {
     "cell_type": "code",
     "collapsed": false,
     "input": [
      "#wrdsPanel.head()"
     ],
     "language": "python",
     "metadata": {},
     "outputs": [],
     "prompt_number": 59
    },
    {
     "cell_type": "code",
     "collapsed": false,
     "input": [],
     "language": "python",
     "metadata": {},
     "outputs": []
    }
   ],
   "metadata": {}
  }
 ]
}