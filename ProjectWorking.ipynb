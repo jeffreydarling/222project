{
 "metadata": {
  "name": "ProjectWorking"
 },
 "nbformat": 3,
 "nbformat_minor": 0,
 "worksheets": [
  {
   "cells": [
    {
     "cell_type": "heading",
     "level": 3,
     "metadata": {},
     "source": [
      "Download NASDAQ company list to dataframe"
     ]
    },
    {
     "cell_type": "code",
     "collapsed": false,
     "input": [
      "clist = pd.io.parsers.read_csv(\"http://www.nasdaq.com/screening/companies-by-industry.aspx?exchange=NASDAQ&render=download\")"
     ],
     "language": "python",
     "metadata": {},
     "outputs": [],
     "prompt_number": 37
    },
    {
     "cell_type": "code",
     "collapsed": false,
     "input": [
      "print clist"
     ],
     "language": "python",
     "metadata": {},
     "outputs": [
      {
       "output_type": "stream",
       "stream": "stdout",
       "text": [
        "<class 'pandas.core.frame.DataFrame'>\n",
        "Int64Index: 2791 entries, 0 to 2790\n",
        "Data columns (total 10 columns):\n",
        "Symbol           2791  non-null values\n",
        "Name             2791  non-null values\n",
        "LastSale         2791  non-null values\n",
        "MarketCap        2791  non-null values\n",
        "ADR TSO          2791  non-null values\n",
        "IPOyear          2791  non-null values\n",
        "Sector           2791  non-null values\n",
        "Industry         2791  non-null values\n",
        "Summary Quote    2791  non-null values\n",
        "Unnamed: 9       0  non-null values\n",
        "dtypes: float64(2), object(8)\n"
       ]
      }
     ],
     "prompt_number": 36
    },
    {
     "cell_type": "heading",
     "level": 3,
     "metadata": {},
     "source": [
      "Download stock prices from yahoo finance automatically"
     ]
    },
    {
     "cell_type": "code",
     "collapsed": false,
     "input": [
      "from pandas.io.data import DataReader\n",
      "from datetime import datetime\n",
      "goog = DataReader(\"GOOG\",  \"yahoo\", datetime(2000,1,1), datetime(2012,1,1))\n",
      "aapl = DataReader(\"AAPL\", \"yahoo\", datetime(2000,1,1), datetime(2012,1,1))\n",
      "print goog\n",
      "print aapl"
     ],
     "language": "python",
     "metadata": {},
     "outputs": [
      {
       "output_type": "stream",
       "stream": "stdout",
       "text": [
        "<class 'pandas.core.frame.DataFrame'>\n",
        "DatetimeIndex: 1857 entries, 2004-08-19 00:00:00 to 2011-12-30 00:00:00\n",
        "Data columns (total 6 columns):\n",
        "Open         1857  non-null values\n",
        "High         1857  non-null values\n",
        "Low          1857  non-null values\n",
        "Close        1857  non-null values\n",
        "Volume       1857  non-null values\n",
        "Adj Close    1857  non-null values\n",
        "dtypes: float64(5), int64(1)\n",
        "<class 'pandas.core.frame.DataFrame'>\n",
        "DatetimeIndex: 3019 entries, 2000-01-03 00:00:00 to 2011-12-30 00:00:00\n",
        "Data columns (total 6 columns):\n",
        "Open         3019  non-null values\n",
        "High         3019  non-null values\n",
        "Low          3019  non-null values\n",
        "Close        3019  non-null values\n",
        "Volume       3019  non-null values\n",
        "Adj Close    3019  non-null values\n",
        "dtypes: float64(5), int64(1)\n"
       ]
      }
     ],
     "prompt_number": 2
    },
    {
     "cell_type": "code",
     "collapsed": false,
     "input": [
      "import pandas as pd\n",
      "stocks = pd.concat([goog, aapl], axis = 1, join = \"inner\", keys=['GOOG','AAPL'])\n",
      "print stocks"
     ],
     "language": "python",
     "metadata": {},
     "outputs": [
      {
       "output_type": "stream",
       "stream": "stdout",
       "text": [
        "<class 'pandas.core.frame.DataFrame'>\n",
        "DatetimeIndex: 1857 entries, 2004-08-19 00:00:00 to 2011-12-30 00:00:00\n",
        "Data columns (total 12 columns):\n",
        "(GOOG, Open)         1857  non-null values\n",
        "(GOOG, High)         1857  non-null values\n",
        "(GOOG, Low)          1857  non-null values\n",
        "(GOOG, Close)        1857  non-null values\n",
        "(GOOG, Volume)       1857  non-null values\n",
        "(GOOG, Adj Close)    1857  non-null values\n",
        "(AAPL, Open)         1857  non-null values\n",
        "(AAPL, High)         1857  non-null values\n",
        "(AAPL, Low)          1857  non-null values\n",
        "(AAPL, Close)        1857  non-null values\n",
        "(AAPL, Volume)       1857  non-null values\n",
        "(AAPL, Adj Close)    1857  non-null values\n",
        "dtypes: float64(10), int64(2)\n"
       ]
      }
     ],
     "prompt_number": 28
    },
    {
     "cell_type": "code",
     "collapsed": false,
     "input": [],
     "language": "python",
     "metadata": {},
     "outputs": []
    }
   ],
   "metadata": {}
  }
 ]
}