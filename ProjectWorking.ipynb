{
 "metadata": {
  "name": ""
 },
 "nbformat": 3,
 "nbformat_minor": 0,
 "worksheets": [
  {
   "cells": [
    {
     "cell_type": "heading",
     "level": 1,
     "metadata": {},
     "source": [
      "Stat222 Capstone Project - Pairs Trading"
     ]
    },
    {
     "cell_type": "heading",
     "level": 2,
     "metadata": {},
     "source": [
      "Import required libraries"
     ]
    },
    {
     "cell_type": "code",
     "collapsed": false,
     "input": [
      "import pandas as pd\n",
      "import scipy.stats as stats\n",
      "import numpy as np\n",
      "import matplotlib.pyplot as plt\n",
      "import statsmodels.api as stat\n",
      "import statsmodels.tsa.stattools as ts\n",
      "from itertools import combinations\n",
      "import multiprocessing\n",
      "from multiprocessing import Pool"
     ],
     "language": "python",
     "metadata": {},
     "outputs": [],
     "prompt_number": 1
    },
    {
     "cell_type": "heading",
     "level": 2,
     "metadata": {},
     "source": [
      "Using manually downloaded WRDS (Wharton) data"
     ]
    },
    {
     "cell_type": "code",
     "collapsed": false,
     "input": [
      "# Unzip and import sorted stock data - currently using test file to manage load times\n",
      "#!gunzip -c testdata.csv.gz | head -n1 > testsort.csv\n",
      "#!gunzip -c testdata.csv.gz | tail -n +2 | sort -t, -k2,2 >> testsort.csv\n",
      "# Use absolute values to clean up incorrect negative values\n",
      "wrdsData = pd.io.parsers.read_csv(\"testsort.csv\", sep = \",\", index_col=[0,1], parse_dates=0, usecols = [1,2,3]).abs()"
     ],
     "language": "python",
     "metadata": {},
     "outputs": [],
     "prompt_number": 2
    },
    {
     "cell_type": "code",
     "collapsed": false,
     "input": [
      "# Known issue with usecols is wrong index names\n",
      "wrdsData.index.names = ['date', 'ticker']\n",
      "wrdsData.head()"
     ],
     "language": "python",
     "metadata": {},
     "outputs": [
      {
       "html": [
        "<div style=\"max-height:1000px;max-width:1500px;overflow:auto;\">\n",
        "<table border=\"1\" class=\"dataframe\">\n",
        "  <thead>\n",
        "    <tr style=\"text-align: right;\">\n",
        "      <th></th>\n",
        "      <th></th>\n",
        "      <th>PRC</th>\n",
        "    </tr>\n",
        "    <tr>\n",
        "      <th>date</th>\n",
        "      <th>ticker</th>\n",
        "      <th></th>\n",
        "    </tr>\n",
        "  </thead>\n",
        "  <tbody>\n",
        "    <tr>\n",
        "      <th rowspan=\"5\" valign=\"top\">2011-01-03</th>\n",
        "      <th>AEPI</th>\n",
        "      <td> 26.510</td>\n",
        "    </tr>\n",
        "    <tr>\n",
        "      <th>JJSF</th>\n",
        "      <td> 49.440</td>\n",
        "    </tr>\n",
        "    <tr>\n",
        "      <th>PLXS</th>\n",
        "      <td> 31.770</td>\n",
        "    </tr>\n",
        "    <tr>\n",
        "      <th>RMCF</th>\n",
        "      <td>  9.861</td>\n",
        "    </tr>\n",
        "    <tr>\n",
        "      <th>MSFT</th>\n",
        "      <td> 27.980</td>\n",
        "    </tr>\n",
        "  </tbody>\n",
        "</table>\n",
        "<p>5 rows \u00d7 1 columns</p>\n",
        "</div>"
       ],
       "metadata": {},
       "output_type": "pyout",
       "prompt_number": 3,
       "text": [
        "                      PRC\n",
        "date       ticker        \n",
        "2011-01-03 AEPI    26.510\n",
        "           JJSF    49.440\n",
        "           PLXS    31.770\n",
        "           RMCF     9.861\n",
        "           MSFT    27.980\n",
        "\n",
        "[5 rows x 1 columns]"
       ]
      }
     ],
     "prompt_number": 3
    },
    {
     "cell_type": "code",
     "collapsed": false,
     "input": [
      "# Test selection of prices by ticker symbol\n",
      "wrdsData.xs('MSFT', level='ticker').head(5)"
     ],
     "language": "python",
     "metadata": {},
     "outputs": [
      {
       "html": [
        "<div style=\"max-height:1000px;max-width:1500px;overflow:auto;\">\n",
        "<table border=\"1\" class=\"dataframe\">\n",
        "  <thead>\n",
        "    <tr style=\"text-align: right;\">\n",
        "      <th></th>\n",
        "      <th>PRC</th>\n",
        "    </tr>\n",
        "    <tr>\n",
        "      <th>date</th>\n",
        "      <th></th>\n",
        "    </tr>\n",
        "  </thead>\n",
        "  <tbody>\n",
        "    <tr>\n",
        "      <th>2011-01-03</th>\n",
        "      <td> 27.9800</td>\n",
        "    </tr>\n",
        "    <tr>\n",
        "      <th>2011-01-04</th>\n",
        "      <td> 28.0875</td>\n",
        "    </tr>\n",
        "    <tr>\n",
        "      <th>2011-01-05</th>\n",
        "      <td> 28.0000</td>\n",
        "    </tr>\n",
        "    <tr>\n",
        "      <th>2011-01-06</th>\n",
        "      <td> 28.8200</td>\n",
        "    </tr>\n",
        "    <tr>\n",
        "      <th>2011-01-07</th>\n",
        "      <td> 28.6000</td>\n",
        "    </tr>\n",
        "  </tbody>\n",
        "</table>\n",
        "<p>5 rows \u00d7 1 columns</p>\n",
        "</div>"
       ],
       "metadata": {},
       "output_type": "pyout",
       "prompt_number": 4,
       "text": [
        "                PRC\n",
        "date               \n",
        "2011-01-03  27.9800\n",
        "2011-01-04  28.0875\n",
        "2011-01-05  28.0000\n",
        "2011-01-06  28.8200\n",
        "2011-01-07  28.6000\n",
        "\n",
        "[5 rows x 1 columns]"
       ]
      }
     ],
     "prompt_number": 4
    },
    {
     "cell_type": "heading",
     "level": 1,
     "metadata": {},
     "source": [
      "How many pairs are there?"
     ]
    },
    {
     "cell_type": "code",
     "collapsed": false,
     "input": [
      "!gunzip -c testdata.csv.gz | tail -n +2 | cut -f 2 > tickerlist.csv\n",
      "tickers = pd.io.parsers.read_csv(\"tickerlist.csv\", sep = \",\",header=None)\n",
      "tickerlist = sorted(list(set(tickers[2])))[1:]\n",
      "tickerpairs = list(combinations(tickerlist,2))\n",
      "print tickerpairs[:10] #look at first 10 combinations of pairs\n",
      "print len(tickerpairs) #over 2.5 million possible pairs, too much data to analyze?\n"
     ],
     "language": "python",
     "metadata": {},
     "outputs": [
      {
       "output_type": "stream",
       "stream": "stdout",
       "text": [
        "[('AAME', 'AAON'), ('AAME', 'AAPL'), ('AAME', 'AAWW'), ('AAME', 'AAXJ'), ('AAME', 'ABAX'), ('AAME', 'ABCB'), ('AAME', 'ABCD'), ('AAME', 'ABCO'), ('AAME', 'ABFS'), ('AAME', 'ABIO')]\n",
        "2650753\n"
       ]
      }
     ],
     "prompt_number": 5
    },
    {
     "cell_type": "heading",
     "level": 1,
     "metadata": {},
     "source": [
      "Distance Method"
     ]
    },
    {
     "cell_type": "code",
     "collapsed": false,
     "input": [
      "# Parallel processing for sum-square-distance\n",
      "def dist(tlist):\n",
      "    xname = tlist[0]\n",
      "    yname = tlist[1]\n",
      "    x = wrdsData.xs(xname, level='ticker').PRC/(wrdsData.xs(xname, level='ticker').PRC[0])\n",
      "    y = wrdsData.xs(yname, level='ticker').PRC/(wrdsData.xs(yname, level='ticker').PRC[0])\n",
      "    return([(xname, yname)], sum(map(lambda z:z**2, x-y)))\n",
      "\n",
      "if __name__ == '__main__':\n",
      "    pool = Pool(processes=4)\n",
      "    #Test just the first 100 pairs - remove [0:100] for full test\n",
      "    result = pd.DataFrame(pool.map(dist, tickerpairs[0:100]))\n",
      "\n",
      "pool.close()\n",
      "smallssd = result.sort(columns = 1)[0:5]\n",
      "print smallssd"
     ],
     "language": "python",
     "metadata": {},
     "outputs": [
      {
       "output_type": "stream",
       "stream": "stdout",
       "text": [
        "                 0         1\n",
        "23  [(AAME, ACNB)]  0.117484\n",
        "31  [(AAME, ACWX)]  0.145515\n",
        "30  [(AAME, ACWI)]  0.153148\n",
        "84  [(AAME, ALOT)]  0.192313\n",
        "40  [(AAME, ADRD)]  0.215263\n",
        "\n",
        "[5 rows x 2 columns]\n"
       ]
      }
     ],
     "prompt_number": 6
    },
    {
     "cell_type": "code",
     "collapsed": false,
     "input": [
      "# Time series plot of standardized stock prices\n",
      "# Updated to use parallel processing output\n",
      "\n",
      "plt.figure(1)\n",
      "i = 1\n",
      "for a in smallssd.index:\n",
      "  stock1 = tickerpairs[a][0]\n",
      "  stock2 = tickerpairs[a][1]\n",
      "  pairsprice1 = wrdsData.xs(stock1, level='ticker').PRC/(wrdsData.xs(stock1, level='ticker').PRC[0])\n",
      "  pairsprice2 = wrdsData.xs(stock2, level='ticker').PRC/(wrdsData.xs(stock2, level='ticker').PRC[0])\n",
      "  plt.subplot(1,5,i)\n",
      "  plt.plot_date(pairsprice1.index, pairsprice1,'r')\n",
      "  plt.plot_date(pairsprice1.index, pairsprice2,'b')\n",
      "  plt.legend([stock1,stock2])\n",
      "  plt.xlabel('Date')\n",
      "  plt.ylabel('Standardized Price')\n",
      "  plt.title('Time Series Plot of '+stock1+' vs '+stock2)\n",
      "  i += 1\n",
      "\n",
      "plt.gcf().autofmt_xdate(rotation=90)  #Make the data labels on the x-axis vertical\n",
      "plt.show()"
     ],
     "language": "python",
     "metadata": {},
     "outputs": [],
     "prompt_number": 7
    },
    {
     "cell_type": "code",
     "collapsed": false,
     "input": [
      "#Time series plot of average gap in standardized price\n",
      "plt.figure(2)\n",
      "i = 1\n",
      "for a in smallssd.index:\n",
      "  stock1 = tickerpairs[a][0]\n",
      "  stock2 = tickerpairs[a][1]\n",
      "  #Updated to reflect standardized price differential\n",
      "  pairsprice1 = wrdsData.xs(stock1, level='ticker').PRC/(wrdsData.xs(stock1, level='ticker').PRC[0])\n",
      "  pairsprice2 = wrdsData.xs(stock2, level='ticker').PRC/(wrdsData.xs(stock2, level='ticker').PRC[0])\n",
      "  pairsgap = pairsprice1-pairsprice2\n",
      "  plt.subplot(1,5,i)\n",
      "  plt.plot(pairsprice1.index, pairsgap,'b')\n",
      "  plt.legend([stock1,stock2])\n",
      "  plt.xlabel('Date')\n",
      "  plt.ylabel('Price')\n",
      "  plt.title('Gap Price between '+stock1+' vs '+stock2)\n",
      "  i += 1\n",
      "\n",
      "plt.gcf().autofmt_xdate(rotation=90)    #Make the data labels on the x-axis vertical\n",
      "plt.show()"
     ],
     "language": "python",
     "metadata": {},
     "outputs": [],
     "prompt_number": 8
    },
    {
     "cell_type": "heading",
     "level": 1,
     "metadata": {},
     "source": [
      "Co-Integration (ADF) Test"
     ]
    },
    {
     "cell_type": "code",
     "collapsed": false,
     "input": [
      "# Parallel processing for cointegration test:\n",
      "def cointegration_test(y, x):\n",
      "        result = stat.OLS(y, x).fit()\n",
      "        return(ts.adfuller(result.resid))\n",
      "\n",
      "\n",
      "def coint(tlist):\n",
      "    try:\n",
      "        xname = tlist[0]\n",
      "        yname = tlist[1]\n",
      "        x = wrdsData.xs(xname, level='ticker').PRC\n",
      "        y = wrdsData.xs(yname, level='ticker').PRC\n",
      "        xclean = x[x.notnull() & y.notnull()]\n",
      "        yclean = y[x.notnull() & y.notnull()]\n",
      "        xp = list(xclean)\n",
      "        yp = list(yclean)\n",
      "        return([(xname, yname)], cointegration_test(xp,yp)[1]) #get the p-value of test for each pair\n",
      "    except ValueError:\n",
      "        return()\n",
      "    except TypeError:\n",
      "        return()\n",
      "\n",
      "\n",
      "if __name__ == '__main__':\n",
      "    pool = Pool(processes=4)\n",
      "    #Test just the first 100 pairs - remove [0:100] for full test\n",
      "    cointResult = pd.DataFrame(pool.map(coint, tickerpairs[0:100]))\n",
      "\n",
      "pool.close()\n",
      "smallCoint = cointResult.sort(columns = 1)[0:5]\n",
      "print smallCoint"
     ],
     "language": "python",
     "metadata": {},
     "outputs": [
      {
       "output_type": "stream",
       "stream": "stdout",
       "text": [
        "                 0         1\n",
        "75  [(AAME, ALCO)]  0.001548\n",
        "90  [(AAME, AMAG)]  0.001574\n",
        "8   [(AAME, ABFS)]  0.001704\n",
        "70  [(AAME, AIRT)]  0.001790\n",
        "18  [(AAME, ACFN)]  0.004354\n",
        "\n",
        "[5 rows x 2 columns]\n"
       ]
      }
     ],
     "prompt_number": 9
    },
    {
     "cell_type": "code",
     "collapsed": false,
     "input": [
      "#Plot for \n",
      "plt.figure(3)\n",
      "i = 1\n",
      "for a in smallCoint.index:\n",
      "  stock1 = tickerpairs[a][0]\n",
      "  stock2 = tickerpairs[a][1]\n",
      "  pairsprice1 = wrdsData.xs(stock1, level='ticker').PRC\n",
      "  pairsprice2 = wrdsData.xs(stock2, level='ticker').PRC\n",
      "  plt.subplot(1,5,i)\n",
      "  plt.plot_date(pairsprice1.index, pairsprice1,'r')\n",
      "  plt.plot_date(pairsprice1.index, pairsprice2,'b')\n",
      "  plt.legend([stock1,stock2])\n",
      "  plt.xlabel('Date')\n",
      "  plt.ylabel('Price')\n",
      "  plt.title('Time Series Plot of '+stock1+' vs '+stock2) \n",
      "  i += 1\n",
      "\n",
      "plt.gcf().autofmt_xdate(rotation=90)   #Make the data labels on the x-axis vertical\n",
      "plt.show()"
     ],
     "language": "python",
     "metadata": {},
     "outputs": [],
     "prompt_number": 11
    },
    {
     "cell_type": "code",
     "collapsed": false,
     "input": [],
     "language": "python",
     "metadata": {},
     "outputs": []
    }
   ],
   "metadata": {}
  }
 ]
}