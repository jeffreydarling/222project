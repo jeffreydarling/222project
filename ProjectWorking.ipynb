{
 "metadata": {
  "name": ""
 },
 "nbformat": 3,
 "nbformat_minor": 0,
 "worksheets": [
  {
   "cells": [
    {
     "cell_type": "heading",
     "level": 1,
     "metadata": {},
     "source": [
      "Stat222 Capstone Project - Pairs Trading"
     ]
    },
    {
     "cell_type": "heading",
     "level": 2,
     "metadata": {},
     "source": [
      "Import required libraries"
     ]
    },
    {
     "cell_type": "code",
     "collapsed": false,
     "input": [
      "import pandas as pd\n",
      "import scipy.stats as stats\n",
      "import numpy as np\n",
      "import matplotlib.pyplot as plt\n",
      "import statsmodels.api as stat\n",
      "import statsmodels.tsa.stattools as ts\n",
      "from itertools import combinations"
     ],
     "language": "python",
     "metadata": {},
     "outputs": [],
     "prompt_number": 1
    },
    {
     "cell_type": "heading",
     "level": 2,
     "metadata": {},
     "source": [
      "Using manually downloaded WRDS (Wharton) data"
     ]
    },
    {
     "cell_type": "code",
     "collapsed": false,
     "input": [
      "# Unzip and import sorted stock data - currently using test file to manage load times\n",
      "!gunzip -c testdata.csv.gz | head -n1 > testsort.csv\n",
      "!gunzip -c testdata.csv.gz | tail -n +2 | sort -t, -k2,2 >> testsort.csv\n",
      "wrdsData = pd.io.parsers.read_csv(\"testsort.csv\", sep = \",\", index_col=[0,1], parse_dates=0, usecols = [1,2,3])"
     ],
     "language": "python",
     "metadata": {},
     "outputs": [
      {
       "output_type": "stream",
       "stream": "stdout",
       "text": [
        "\r\n",
        "gzip: stdout: Broken pipe\r\n"
       ]
      }
     ],
     "prompt_number": 2
    },
    {
     "cell_type": "code",
     "collapsed": false,
     "input": [
      "# Known issue with usecols is wrong index names\n",
      "wrdsData.index.names = ['date', 'ticker']\n",
      "wrdsData.head()"
     ],
     "language": "python",
     "metadata": {},
     "outputs": [
      {
       "html": [
        "<div style=\"max-height:1000px;max-width:1500px;overflow:auto;\">\n",
        "<table border=\"1\" class=\"dataframe\">\n",
        "  <thead>\n",
        "    <tr style=\"text-align: right;\">\n",
        "      <th></th>\n",
        "      <th></th>\n",
        "      <th>PRC</th>\n",
        "    </tr>\n",
        "    <tr>\n",
        "      <th>date</th>\n",
        "      <th>ticker</th>\n",
        "      <th></th>\n",
        "    </tr>\n",
        "  </thead>\n",
        "  <tbody>\n",
        "    <tr>\n",
        "      <th rowspan=\"5\" valign=\"top\">2011-01-03</th>\n",
        "      <th>AEPI</th>\n",
        "      <td> 26.510</td>\n",
        "    </tr>\n",
        "    <tr>\n",
        "      <th>JJSF</th>\n",
        "      <td> 49.440</td>\n",
        "    </tr>\n",
        "    <tr>\n",
        "      <th>PLXS</th>\n",
        "      <td> 31.770</td>\n",
        "    </tr>\n",
        "    <tr>\n",
        "      <th>RMCF</th>\n",
        "      <td>  9.861</td>\n",
        "    </tr>\n",
        "    <tr>\n",
        "      <th>MSFT</th>\n",
        "      <td> 27.980</td>\n",
        "    </tr>\n",
        "  </tbody>\n",
        "</table>\n",
        "</div>"
       ],
       "output_type": "pyout",
       "prompt_number": 3,
       "text": [
        "                      PRC\n",
        "date       ticker        \n",
        "2011-01-03 AEPI    26.510\n",
        "           JJSF    49.440\n",
        "           PLXS    31.770\n",
        "           RMCF     9.861\n",
        "           MSFT    27.980"
       ]
      }
     ],
     "prompt_number": 3
    },
    {
     "cell_type": "code",
     "collapsed": false,
     "input": [
      "# Test selection of prices by ticker symbol\n",
      "wrdsData.xs('MSFT', level='ticker').head(5)"
     ],
     "language": "python",
     "metadata": {},
     "outputs": [
      {
       "html": [
        "<div style=\"max-height:1000px;max-width:1500px;overflow:auto;\">\n",
        "<table border=\"1\" class=\"dataframe\">\n",
        "  <thead>\n",
        "    <tr style=\"text-align: right;\">\n",
        "      <th></th>\n",
        "      <th>PRC</th>\n",
        "    </tr>\n",
        "    <tr>\n",
        "      <th>date</th>\n",
        "      <th></th>\n",
        "    </tr>\n",
        "  </thead>\n",
        "  <tbody>\n",
        "    <tr>\n",
        "      <th>2011-01-03</th>\n",
        "      <td> 27.9800</td>\n",
        "    </tr>\n",
        "    <tr>\n",
        "      <th>2011-01-04</th>\n",
        "      <td> 28.0875</td>\n",
        "    </tr>\n",
        "    <tr>\n",
        "      <th>2011-01-05</th>\n",
        "      <td> 28.0000</td>\n",
        "    </tr>\n",
        "    <tr>\n",
        "      <th>2011-01-06</th>\n",
        "      <td> 28.8200</td>\n",
        "    </tr>\n",
        "    <tr>\n",
        "      <th>2011-01-07</th>\n",
        "      <td> 28.6000</td>\n",
        "    </tr>\n",
        "  </tbody>\n",
        "</table>\n",
        "</div>"
       ],
       "output_type": "pyout",
       "prompt_number": 5,
       "text": [
        "                PRC\n",
        "date               \n",
        "2011-01-03  27.9800\n",
        "2011-01-04  28.0875\n",
        "2011-01-05  28.0000\n",
        "2011-01-06  28.8200\n",
        "2011-01-07  28.6000"
       ]
      }
     ],
     "prompt_number": 5
    },
    {
     "cell_type": "heading",
     "level": 1,
     "metadata": {},
     "source": [
      "How many pairs are there?"
     ]
    },
    {
     "cell_type": "code",
     "collapsed": false,
     "input": [
      "!gunzip -c testdata.csv.gz | tail -n +2 | cut -f 2 > tickerlist.csv\n",
      "tickers = pd.io.parsers.read_csv(\"tickerlist.csv\", sep = \",\",header=None)\n",
      "tickerlist = sorted(list(set(tickers[2])))[1:]\n",
      "tickerpairs = list(combinations(tickerlist,2))\n",
      "print tickerpairs[:10] #look at first 10 combinations of pairs\n",
      "print len(tickerpairs) #over 2.5 million possible pairs, too much data to analyze?\n"
     ],
     "language": "python",
     "metadata": {},
     "outputs": [
      {
       "output_type": "stream",
       "stream": "stdout",
       "text": [
        "[('AAME', 'AAON'), ('AAME', 'AAPL'), ('AAME', 'AAWW'), ('AAME', 'AAXJ'), ('AAME', 'ABAX'), ('AAME', 'ABCB'), ('AAME', 'ABCD'), ('AAME', 'ABCO'), ('AAME', 'ABFS'), ('AAME', 'ABIO')]"
       ]
      },
      {
       "output_type": "stream",
       "stream": "stdout",
       "text": [
        "\n",
        "2650753\n"
       ]
      }
     ],
     "prompt_number": 5
    },
    {
     "cell_type": "heading",
     "level": 1,
     "metadata": {},
     "source": [
      "Distance Method"
     ]
    },
    {
     "cell_type": "code",
     "collapsed": false,
     "input": [
      "SSD = dict()\n",
      "#Test just the first 100 pairs - remove [0:100] for full test\n",
      "for a, b in tickerpairs[0:100]:\n",
      "    stockprice = wrdsData.xs(a, level='ticker').PRC\n",
      "    normprice = stockprice/stockprice[0]\n",
      "    stockprice2 = wrdsData.xs(b, level='ticker').PRC\n",
      "    normprice2 = stockprice2/stockprice2[0]\n",
      "    SSD[(a,b)] = sum([(normprice[k] - normprice2[k])**2 for k in range(min(len(normprice),len(normprice2)))])\n",
      "\n",
      "\n",
      "smallssd = sorted(SSD.items(), key=lambda x: x[1])[:5] #pick 5 smallest distance pairs from distance method\n",
      "print dict(smallssd).keys()\n",
      "print smallssd"
     ],
     "language": "python",
     "metadata": {},
     "outputs": [
      {
       "output_type": "stream",
       "stream": "stdout",
       "text": [
        "[(('AAME', 'ACFN'), 12.443881919182344), (('AAME', 'AAXJ'), 12.489099698223452), (('AAME', 'ADRA'), 12.511868668788521), (('AAME', 'AMGN'), 12.549056278200881), (('AAME', 'ADRE'), 12.589697357609813)]\n"
       ]
      }
     ],
     "prompt_number": 6
    },
    {
     "cell_type": "code",
     "collapsed": false,
     "input": [
      "#Time series plot of stock prices\n",
      "ssdsmall = dict(smallssd)\n",
      "\n",
      "plt.figure(1)\n",
      "i = 1\n",
      "for stock1, stock2 in ssdsmall.keys():\n",
      "  pairsprice1 = wrdsData.xs(stock1, level='ticker').PRC\n",
      "  pairsprice2 = wrdsData.xs(stock2, level='ticker').PRC\n",
      "  plt.subplot(1,5,i)\n",
      "  plt.plot(pairsprice1,'r')\n",
      "  plt.plot(pairsprice2,'b')\n",
      "  plt.legend([stock1,stock2])\n",
      "  plt.xlabel('Time')  #Maybe use dates instead?\n",
      "  plt.ylabel('Price')\n",
      "  plt.title('Time Series Plot of '+stock1+' vs '+stock2)\n",
      "  i += 1\n",
      "\n",
      "plt.show()"
     ],
     "language": "python",
     "metadata": {},
     "outputs": [],
     "prompt_number": 86
    },
    {
     "cell_type": "code",
     "collapsed": false,
     "input": [
      "#Time series plot of average gap in price\n",
      "plt.figure(2)\n",
      "i = 1\n",
      "for stock1, stock2 in ssdsmall.keys():\n",
      "  pairsprice1 = wrdsData.xs(stock1, level='ticker').PRC\n",
      "  pairsprice2 = wrdsData.xs(stock2, level='ticker').PRC\n",
      "  pairsgap = pairsprice1-pairsprice2   #plot absolute difference instead, maybe?\n",
      "  plt.subplot(1,5,i)\n",
      "  plt.plot(pairsgap,'b')\n",
      "  plt.legend([stock1,stock2])\n",
      "  plt.xlabel('Time')  #Maybe use dates instead?\n",
      "  plt.ylabel('Price')\n",
      "  plt.title('Gap Price between '+stock1+' vs '+stock2)\n",
      "  i += 1\n",
      "\n",
      "plt.show()"
     ],
     "language": "python",
     "metadata": {},
     "outputs": [],
     "prompt_number": 83
    },
    {
     "cell_type": "heading",
     "level": 1,
     "metadata": {},
     "source": [
      "Co-Integration (ADF) Test"
     ]
    },
    {
     "cell_type": "code",
     "collapsed": false,
     "input": [
      "def cointegration_test(y, x):\n",
      "    result = stat.OLS(y, x).fit()    \n",
      "    return ts.adfuller(result.resid)\n",
      "\n",
      "\n",
      "CoIntegrate = dict()\n",
      "\n",
      "#Test just the first 100 pairs - remove [0:100] for full test\n",
      "for a, b in tickerpairs[0:100]:\n",
      "    try:\n",
      "        stockdirty = wrdsData.xs(a, level='ticker').PRC\n",
      "        stockdirty2 = wrdsData.xs(b, level='ticker').PRC\n",
      "        stockclean = stockdirty[stockdirty.notnull() & stockdirty2.notnull()]\n",
      "        stockclean2 = stockdirty2[stockdirty.notnull() & stockdirty2.notnull()]  \n",
      "        stockprice = list(stockclean)\n",
      "        stockprice2 = list(stockclean2)\n",
      "        CoIntegrate[(a,b)] = cointegration_test(stockprice,stockprice2)[1] #get the p-value of test for each pair\n",
      "    except ValueError:\n",
      "        print(\"Failed pair:\" + a + \", \" + b)\n",
      "        continue\n",
      "    except TypeError:\n",
      "        print(\"Unknown error\")\n",
      "        continue\n",
      "    \n",
      "    \n",
      "pairsoptim = [CoIntegrate.keys()[i] for i in range(len(CoIntegrate)) if CoIntegrate.values()[i] < 0.001] \n",
      "#print pairsoptim"
     ],
     "language": "python",
     "metadata": {},
     "outputs": [
      {
       "output_type": "stream",
       "stream": "stdout",
       "text": [
        "Failed pair:AAME, ACRX\n"
       ]
      }
     ],
     "prompt_number": 87
    },
    {
     "cell_type": "code",
     "collapsed": false,
     "input": [
      "smallcount = sorted(CoIntegrate.items(), key=lambda x: x[1])[:5]\n",
      "print smallcount\n",
      "\n"
     ],
     "language": "python",
     "metadata": {},
     "outputs": [
      {
       "output_type": "stream",
       "stream": "stdout",
       "text": [
        "[(('AAME', 'ALOT'), 7.5455357592690783e-24), (('AAME', 'AFCB'), 2.7364608258383198e-22), (('AAME', 'AMGN'), 2.6933599609833492e-21), (('AAME', 'AETI'), 2.8001992535285789e-21), (('AAME', 'AGNC'), 3.4538827980696657e-21)]\n"
       ]
      }
     ],
     "prompt_number": 88
    },
    {
     "cell_type": "code",
     "collapsed": false,
     "input": [
      "#Plot for \n",
      "plt.figure(3)\n",
      "i = 1\n",
      "for stock1, stock2 in pairsoptim:\n",
      "  pairsprice1 = wrdsData.xs(stock1, level='ticker').PRC\n",
      "  pairsprice2 = wrdsData.xs(stock2, level='ticker').PRC\n",
      "  plt.subplot(1,5,i)\n",
      "  plt.plot(pairsprice1,'r')\n",
      "  plt.plot(pairsprice2,'b')\n",
      "  plt.legend([stock1,stock2])\n",
      "  plt.xlabel('Time')  #Maybe use dates instead?\n",
      "  plt.ylabel('Price')\n",
      "  plt.title('Time Series Plot of '+stock1+' vs '+stock2)\n",
      "  i += 1\n",
      "\n",
      "plt.show()"
     ],
     "language": "python",
     "metadata": {},
     "outputs": [],
     "prompt_number": 13
    },
    {
     "cell_type": "code",
     "collapsed": false,
     "input": [
      "def cointegration_test(y, x):\n",
      "    result = stat.OLS(y, x).fit()    \n",
      "    return ts.adfuller(result.resid)\n",
      "\n",
      "x = wrdsData.xs('YHOO', level='ticker').PRC\n",
      "y = wrdsData.xs('MSFT', level='ticker').PRC\n",
      "\n",
      "cointegration_test(y,x)"
     ],
     "language": "python",
     "metadata": {},
     "outputs": [],
     "prompt_number": 83
    },
    {
     "cell_type": "code",
     "collapsed": false,
     "input": [],
     "language": "python",
     "metadata": {},
     "outputs": [],
     "prompt_number": 83
    },
    {
     "cell_type": "code",
     "collapsed": false,
     "input": [],
     "language": "python",
     "metadata": {},
     "outputs": [],
     "prompt_number": 58
    },
    {
     "cell_type": "code",
     "collapsed": false,
     "input": [],
     "language": "python",
     "metadata": {},
     "outputs": [],
     "prompt_number": 83
    },
    {
     "cell_type": "code",
     "collapsed": false,
     "input": [],
     "language": "python",
     "metadata": {},
     "outputs": []
    }
   ],
   "metadata": {}
  }
 ]
}