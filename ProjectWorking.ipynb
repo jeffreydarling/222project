{
 "metadata": {
  "name": ""
 },
 "nbformat": 3,
 "nbformat_minor": 0,
 "worksheets": [
  {
   "cells": [
    {
     "cell_type": "heading",
     "level": 1,
     "metadata": {},
     "source": [
      "Stat222 Capstone Project - Pairs Trading"
     ]
    },
    {
     "cell_type": "heading",
     "level": 2,
     "metadata": {},
     "source": [
      "Import required libraries"
     ]
    },
    {
     "cell_type": "code",
     "collapsed": false,
     "input": [
      "import pandas as pd\n",
      "import scipy.stats as stats\n",
      "import numpy as np\n",
      "import matplotlib.pyplot as plt\n",
      "import statsmodels.api as stat\n",
      "import statsmodels.tsa.stattools as ts\n",
      "from itertools import combinations\n",
      "import multiprocessing\n",
      "from multiprocessing import Pool"
     ],
     "language": "python",
     "metadata": {},
     "outputs": [],
     "prompt_number": 1
    },
    {
     "cell_type": "heading",
     "level": 2,
     "metadata": {},
     "source": [
      "Using manually downloaded WRDS (Wharton) data"
     ]
    },
    {
     "cell_type": "code",
     "collapsed": false,
     "input": [
      "# Unzip and import sorted stock data - currently using test file to manage load times\n",
      "!gunzip -c testdata.csv.gz | head -n1 > testsort.csv\n",
      "!gunzip -c testdata.csv.gz | tail -n +2 | sort -t, -k2,2 >> testsort.csv\n",
      "# Use absolute values to clean up incorrect negative values\n",
      "wrdsData = pd.io.parsers.read_csv(\"testsort.csv\", sep = \",\", index_col=[0,1], parse_dates=0, usecols = [1,2,3]).abs()"
     ],
     "language": "python",
     "metadata": {},
     "outputs": [
      {
       "output_type": "stream",
       "stream": "stdout",
       "text": [
        "gunzip: error writing to output: Broken pipe\r\n",
        "gunzip: testdata.csv.gz: uncompress failed\r\n"
       ]
      }
     ],
     "prompt_number": 2
    },
    {
     "cell_type": "code",
     "collapsed": false,
     "input": [
      "# Known issue with usecols is wrong index names\n",
      "wrdsData.index.names = ['date', 'ticker']\n",
      "wrdsData.head()"
     ],
     "language": "python",
     "metadata": {},
     "outputs": [
      {
       "html": [
        "<div style=\"max-height:1000px;max-width:1500px;overflow:auto;\">\n",
        "<table border=\"1\" class=\"dataframe\">\n",
        "  <thead>\n",
        "    <tr style=\"text-align: right;\">\n",
        "      <th></th>\n",
        "      <th></th>\n",
        "      <th>PRC</th>\n",
        "    </tr>\n",
        "    <tr>\n",
        "      <th>date</th>\n",
        "      <th>ticker</th>\n",
        "      <th></th>\n",
        "    </tr>\n",
        "  </thead>\n",
        "  <tbody>\n",
        "    <tr>\n",
        "      <th rowspan=\"5\" valign=\"top\">2011-01-03</th>\n",
        "      <th>AEPI</th>\n",
        "      <td> 26.510</td>\n",
        "    </tr>\n",
        "    <tr>\n",
        "      <th>JJSF</th>\n",
        "      <td> 49.440</td>\n",
        "    </tr>\n",
        "    <tr>\n",
        "      <th>PLXS</th>\n",
        "      <td> 31.770</td>\n",
        "    </tr>\n",
        "    <tr>\n",
        "      <th>RMCF</th>\n",
        "      <td>  9.861</td>\n",
        "    </tr>\n",
        "    <tr>\n",
        "      <th>MSFT</th>\n",
        "      <td> 27.980</td>\n",
        "    </tr>\n",
        "  </tbody>\n",
        "</table>\n",
        "<p>5 rows \u00d7 1 columns</p>\n",
        "</div>"
       ],
       "metadata": {},
       "output_type": "pyout",
       "prompt_number": 3,
       "text": [
        "                      PRC\n",
        "date       ticker        \n",
        "2011-01-03 AEPI    26.510\n",
        "           JJSF    49.440\n",
        "           PLXS    31.770\n",
        "           RMCF     9.861\n",
        "           MSFT    27.980\n",
        "\n",
        "[5 rows x 1 columns]"
       ]
      }
     ],
     "prompt_number": 3
    },
    {
     "cell_type": "code",
     "collapsed": false,
     "input": [
      "# Test selection of prices by ticker symbol\n",
      "wrdsData.xs('MSFT', level='ticker').head(5)"
     ],
     "language": "python",
     "metadata": {},
     "outputs": [
      {
       "html": [
        "<div style=\"max-height:1000px;max-width:1500px;overflow:auto;\">\n",
        "<table border=\"1\" class=\"dataframe\">\n",
        "  <thead>\n",
        "    <tr style=\"text-align: right;\">\n",
        "      <th></th>\n",
        "      <th>PRC</th>\n",
        "    </tr>\n",
        "    <tr>\n",
        "      <th>date</th>\n",
        "      <th></th>\n",
        "    </tr>\n",
        "  </thead>\n",
        "  <tbody>\n",
        "    <tr>\n",
        "      <th>2011-01-03</th>\n",
        "      <td> 27.9800</td>\n",
        "    </tr>\n",
        "    <tr>\n",
        "      <th>2011-01-04</th>\n",
        "      <td> 28.0875</td>\n",
        "    </tr>\n",
        "    <tr>\n",
        "      <th>2011-01-05</th>\n",
        "      <td> 28.0000</td>\n",
        "    </tr>\n",
        "    <tr>\n",
        "      <th>2011-01-06</th>\n",
        "      <td> 28.8200</td>\n",
        "    </tr>\n",
        "    <tr>\n",
        "      <th>2011-01-07</th>\n",
        "      <td> 28.6000</td>\n",
        "    </tr>\n",
        "  </tbody>\n",
        "</table>\n",
        "<p>5 rows \u00d7 1 columns</p>\n",
        "</div>"
       ],
       "metadata": {},
       "output_type": "pyout",
       "prompt_number": 4,
       "text": [
        "                PRC\n",
        "date               \n",
        "2011-01-03  27.9800\n",
        "2011-01-04  28.0875\n",
        "2011-01-05  28.0000\n",
        "2011-01-06  28.8200\n",
        "2011-01-07  28.6000\n",
        "\n",
        "[5 rows x 1 columns]"
       ]
      }
     ],
     "prompt_number": 4
    },
    {
     "cell_type": "heading",
     "level": 1,
     "metadata": {},
     "source": [
      "How many pairs are there?"
     ]
    },
    {
     "cell_type": "code",
     "collapsed": false,
     "input": [
      "!gunzip -c testdata.csv.gz | tail -n +2 | cut -f 2 > tickerlist.csv\n",
      "tickers = pd.io.parsers.read_csv(\"tickerlist.csv\", sep = \",\",header=None)\n",
      "tickerlist = sorted(list(set(tickers[2])))[1:]\n",
      "tickerpairs = list(combinations(tickerlist,2))\n",
      "print tickerpairs[:10] #look at first 10 combinations of pairs\n",
      "print len(tickerpairs) #over 2.5 million possible pairs, too much data to analyze?\n"
     ],
     "language": "python",
     "metadata": {},
     "outputs": [
      {
       "output_type": "stream",
       "stream": "stdout",
       "text": [
        "[('AAME', 'AAON'), ('AAME', 'AAPL'), ('AAME', 'AAWW'), ('AAME', 'AAXJ'), ('AAME', 'ABAX'), ('AAME', 'ABCB'), ('AAME', 'ABCD'), ('AAME', 'ABCO'), ('AAME', 'ABFS'), ('AAME', 'ABIO')]\n",
        "2650753\n"
       ]
      }
     ],
     "prompt_number": 5
    },
    {
     "cell_type": "heading",
     "level": 1,
     "metadata": {},
     "source": [
      "Distance Method"
     ]
    },
    {
     "cell_type": "code",
     "collapsed": false,
     "input": [
      "SSD = dict()\n",
      "#Test just the first 100 pairs - remove [0:100] for full test\n",
      "for a, b in tickerpairs[0:100]:\n",
      "    stockprice = wrdsData.xs(a, level='ticker').PRC\n",
      "    normprice = stockprice/stockprice[0]\n",
      "    stockprice2 = wrdsData.xs(b, level='ticker').PRC\n",
      "    normprice2 = stockprice2/stockprice2[0]\n",
      "    SSD[(a,b)] = sum([(normprice[k] - normprice2[k])**2 for k in range(min(len(normprice),len(normprice2)))])\n",
      "\n",
      "\n",
      "smallssd = sorted(SSD.items(), key=lambda x: x[1])[:5] #pick 5 smallest distance pairs from distance method\n",
      "print dict(smallssd).keys()\n",
      "print smallssd"
     ],
     "language": "python",
     "metadata": {},
     "outputs": [
      {
       "output_type": "stream",
       "stream": "stdout",
       "text": [
        "[('AAME', 'ACWX'), ('AAME', 'ALOT'), ('AAME', 'ACWI'), ('AAME', 'ADRD'), ('AAME', 'ACNB')]\n",
        "[(('AAME', 'ACNB'), 0.11748393048220854), (('AAME', 'ACWX'), 0.14551502725740179), (('AAME', 'ACWI'), 0.15314770088176952), (('AAME', 'ALOT'), 0.19231252266710339), (('AAME', 'ADRD'), 0.21526300170999996)]\n"
       ]
      }
     ],
     "prompt_number": 6
    },
    {
     "cell_type": "code",
     "collapsed": false,
     "input": [
      "# Parallel processing for sum-square-distance\n",
      "def dist(tlist):\n",
      "    xname = tlist[0]\n",
      "    yname = tlist[1]\n",
      "    x = wrdsData.xs(xname, level='ticker').PRC/(wrdsData.xs(xname, level='ticker').PRC[0])\n",
      "    y = wrdsData.xs(yname, level='ticker').PRC/(wrdsData.xs(yname, level='ticker').PRC[0])\n",
      "    return([(xname, yname)], sum(map(lambda z:z**2, x-y)))\n",
      "\n",
      "if __name__ == '__main__':\n",
      "    pool = Pool(processes=4)\n",
      "    #Test just the first 100 pairs - remove [0:100] for full test\n",
      "    result = pd.DataFrame(pool.map(dist, tickerpairs[0:1000]))\n",
      "\n",
      "\n",
      "smallssd = result.sort(columns = 1)[0:5]\n",
      "print smallssd"
     ],
     "language": "python",
     "metadata": {},
     "outputs": [
      {
       "output_type": "stream",
       "stream": "stdout",
       "text": [
        "                  0         1\n",
        "531  [(AAME, CUBA)]  0.085065\n",
        "338  [(AAME, CAZA)]  0.087709\n",
        "23   [(AAME, ACNB)]  0.117484\n",
        "947  [(AAME, HFFC)]  0.120922\n",
        "194  [(AAME, AUBN)]  0.126979\n",
        "\n",
        "[5 rows x 2 columns]\n"
       ]
      }
     ],
     "prompt_number": 14
    },
    {
     "cell_type": "code",
     "collapsed": false,
     "input": [
      "#Time series plot of stock prices\n",
      "ssdsmall = dict(smallssd)\n",
      "\n",
      "plt.figure(1)\n",
      "i = 1\n",
      "for stock1, stock2 in ssdsmall.keys():\n",
      "  pairsprice1 = wrdsData.xs(stock1, level='ticker').PRC\n",
      "  pairsprice2 = wrdsData.xs(stock2, level='ticker').PRC\n",
      "  plt.subplot(1,5,i)\n",
      "  plt.plot_date(pairsprice1.index, pairsprice1,'r')\n",
      "  plt.plot_date(pairsprice1.index, pairsprice2,'b')\n",
      "  plt.legend([stock1,stock2])\n",
      "  plt.xlabel('Date')\n",
      "  plt.ylabel('Price')\n",
      "  plt.title('Time Series Plot of '+stock1+' vs '+stock2)\n",
      "  i += 1\n",
      "\n",
      "plt.gcf().autofmt_xdate(rotation=90)  #Make the data labels on the x-axis vertical\n",
      "plt.show()"
     ],
     "language": "python",
     "metadata": {},
     "outputs": [],
     "prompt_number": 24
    },
    {
     "cell_type": "code",
     "collapsed": false,
     "input": [
      "#Time series plot of average gap in price\n",
      "plt.figure(2)\n",
      "i = 1\n",
      "for stock1, stock2 in ssdsmall.keys():\n",
      "  pairsprice1 = wrdsData.xs(stock1, level='ticker').PRC\n",
      "  pairsprice2 = wrdsData.xs(stock2, level='ticker').PRC\n",
      "  pairsgap = pairsprice1-pairsprice2  #plot absolute difference instead, maybe?\n",
      "  plt.subplot(1,5,i)\n",
      "  plt.plot(pairsprice1.index, pairsgap,'b')\n",
      "  plt.legend([stock1,stock2])\n",
      "  plt.xlabel('Date')\n",
      "  plt.ylabel('Price')\n",
      "  plt.title('Gap Price between '+stock1+' vs '+stock2)\n",
      "  i += 1\n",
      "\n",
      "plt.gcf().autofmt_xdate(rotation=90)    #Make the data labels on the x-axis vertical\n",
      "plt.show()"
     ],
     "language": "python",
     "metadata": {},
     "outputs": [],
     "prompt_number": 23
    },
    {
     "cell_type": "heading",
     "level": 1,
     "metadata": {},
     "source": [
      "Co-Integration (ADF) Test"
     ]
    },
    {
     "cell_type": "code",
     "collapsed": false,
     "input": [
      "def cointegration_test(y, x):\n",
      "    result = stat.OLS(y, x).fit()    \n",
      "    return ts.adfuller(result.resid)\n",
      "\n",
      "\n",
      "CoIntegrate = dict()\n",
      "\n",
      "#Test just the first 100 pairs - remove [0:100] for full test\n",
      "for a, b in tickerpairs[0:100]:\n",
      "    try:\n",
      "        stockdirty = wrdsData.xs(a, level='ticker').PRC\n",
      "        stockdirty2 = wrdsData.xs(b, level='ticker').PRC\n",
      "        stockclean = stockdirty[stockdirty.notnull() & stockdirty2.notnull()]\n",
      "        stockclean2 = stockdirty2[stockdirty.notnull() & stockdirty2.notnull()]  \n",
      "        stockprice = list(stockclean)\n",
      "        stockprice2 = list(stockclean2)\n",
      "        CoIntegrate[(a,b)] = cointegration_test(stockprice,stockprice2)[1] #get the p-value of test for each pair\n",
      "    except ValueError:\n",
      "        print(\"Failed pair:\" + a + \", \" + b)\n",
      "        continue\n",
      "    except TypeError:\n",
      "        print(\"Unknown error\")\n",
      "        continue\n",
      "    \n",
      "    \n",
      "pairsoptim = [CoIntegrate.keys()[i] for i in range(len(CoIntegrate)) if CoIntegrate.values()[i] < 0.05] \n",
      "print pairsoptim"
     ],
     "language": "python",
     "metadata": {},
     "outputs": [
      {
       "output_type": "stream",
       "stream": "stdout",
       "text": [
        "Failed pair:AAME, ACRX\n",
        "[('AAME', 'ALCO'), ('AAME', 'AAPL'), ('AAME', 'ADVS'), ('AAME', 'ALNY'), ('AAME', 'ADRA'), ('AAME', 'AIRT'), ('AAME', 'ACAT'), ('AAME', 'ABFS'), ('AAME', 'ABCB'), ('AAME', 'ALLB'), ('AAME', 'ABCD'), ('AAME', 'ADRE'), ('AAME', 'AIQ'), ('AAME', 'ACFN'), ('AAME', 'AEIS'), ('AAME', 'ACPW'), ('AAME', 'AMAG'), ('AAME', 'ADBE')]"
       ]
      },
      {
       "output_type": "stream",
       "stream": "stdout",
       "text": [
        "\n"
       ]
      }
     ],
     "prompt_number": 9
    },
    {
     "cell_type": "code",
     "collapsed": false,
     "input": [
      "smallcount = sorted(CoIntegrate.items(), key=lambda x: x[1])[:5]  #Pick the pairs with the 5 smalles p-values\n",
      "cointeg = dict(smallcount)\n",
      "print cointeg\n"
     ],
     "language": "python",
     "metadata": {},
     "outputs": [
      {
       "output_type": "stream",
       "stream": "stdout",
       "text": [
        "{('AAME', 'ALCO'): 0.0015483953771252667, ('AAME', 'ABFS'): 0.001703728056928143, ('AAME', 'ACFN'): 0.0043536108392782285, ('AAME', 'AMAG'): 0.0015735922317983533, ('AAME', 'AIRT'): 0.001790340824200441}\n"
       ]
      }
     ],
     "prompt_number": 15
    },
    {
     "cell_type": "code",
     "collapsed": false,
     "input": [
      "#Plot for \n",
      "plt.figure(3)\n",
      "i = 1\n",
      "for stock1, stock2 in cointeg.keys():\n",
      "  pairsprice1 = wrdsData.xs(stock1, level='ticker').PRC\n",
      "  pairsprice2 = wrdsData.xs(stock2, level='ticker').PRC\n",
      "  plt.subplot(1,5,i)\n",
      "  plt.plot_date(pairsprice1.index, pairsprice1,'r')\n",
      "  plt.plot_date(pairsprice1.index, pairsprice2,'b')\n",
      "  plt.legend([stock1,stock2])\n",
      "  plt.xlabel('Date')\n",
      "  plt.ylabel('Price')\n",
      "  plt.title('Time Series Plot of '+stock1+' vs '+stock2) \n",
      "  i += 1\n",
      "\n",
      "plt.gcf().autofmt_xdate(rotation=90)   #Make the data labels on the x-axis vertical\n",
      "plt.show()"
     ],
     "language": "python",
     "metadata": {},
     "outputs": [],
     "prompt_number": 25
    },
    {
     "cell_type": "code",
     "collapsed": false,
     "input": [
      "def cointegration_test(y, x):\n",
      "    result = stat.OLS(y, x).fit()    \n",
      "    return ts.adfuller(result.resid)\n",
      "\n",
      "x = wrdsData.xs('YHOO', level='ticker').PRC\n",
      "y = wrdsData.xs('MSFT', level='ticker').PRC\n",
      "\n",
      "cointegration_test(y,x)"
     ],
     "language": "python",
     "metadata": {},
     "outputs": [],
     "prompt_number": 83
    },
    {
     "cell_type": "code",
     "collapsed": false,
     "input": [],
     "language": "python",
     "metadata": {},
     "outputs": []
    }
   ],
   "metadata": {}
  }
 ]
}